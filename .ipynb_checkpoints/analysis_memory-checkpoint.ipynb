{
 "cells": [
  {
   "cell_type": "code",
   "execution_count": 1,
   "metadata": {},
   "outputs": [],
   "source": [
    "from linares_plot import *\n",
    "import os\n",
    "import datetime\n",
    "from datetime import datetime as dt\n",
    "import re\n",
    "import statsmodels.formula.api as smf\n",
    "import random"
   ]
  },
  {
   "cell_type": "code",
   "execution_count": 2,
   "metadata": {},
   "outputs": [
    {
     "data": {
      "text/html": [
       "<div>\n",
       "<style scoped>\n",
       "    .dataframe tbody tr th:only-of-type {\n",
       "        vertical-align: middle;\n",
       "    }\n",
       "\n",
       "    .dataframe tbody tr th {\n",
       "        vertical-align: top;\n",
       "    }\n",
       "\n",
       "    .dataframe thead th {\n",
       "        text-align: right;\n",
       "    }\n",
       "</style>\n",
       "<table border=\"1\" class=\"dataframe\">\n",
       "  <thead>\n",
       "    <tr style=\"text-align: right;\">\n",
       "      <th></th>\n",
       "      <th>duration</th>\n",
       "      <th>event</th>\n",
       "      <th>subject</th>\n",
       "      <th>tiempo</th>\n",
       "      <th>time_s</th>\n",
       "      <th>trick</th>\n",
       "      <th>RT</th>\n",
       "      <th>previous_event</th>\n",
       "      <th>anticip_time</th>\n",
       "      <th>next_event</th>\n",
       "      <th>r1</th>\n",
       "      <th>r2</th>\n",
       "      <th>r3</th>\n",
       "      <th>r4</th>\n",
       "    </tr>\n",
       "  </thead>\n",
       "  <tbody>\n",
       "    <tr>\n",
       "      <th>0</th>\n",
       "      <td>1</td>\n",
       "      <td>Se</td>\n",
       "      <td>1</td>\n",
       "      <td>00:00:06</td>\n",
       "      <td>6</td>\n",
       "      <td>1</td>\n",
       "      <td>-1</td>\n",
       "      <td>None</td>\n",
       "      <td>-21</td>\n",
       "      <td>gag</td>\n",
       "      <td>0</td>\n",
       "      <td>0</td>\n",
       "      <td>0</td>\n",
       "      <td>0</td>\n",
       "    </tr>\n",
       "    <tr>\n",
       "      <th>1</th>\n",
       "      <td>1</td>\n",
       "      <td>Si</td>\n",
       "      <td>1</td>\n",
       "      <td>00:00:10</td>\n",
       "      <td>10</td>\n",
       "      <td>1</td>\n",
       "      <td>-1</td>\n",
       "      <td>None</td>\n",
       "      <td>-17</td>\n",
       "      <td>gag</td>\n",
       "      <td>0</td>\n",
       "      <td>0</td>\n",
       "      <td>0</td>\n",
       "      <td>0</td>\n",
       "    </tr>\n",
       "    <tr>\n",
       "      <th>2</th>\n",
       "      <td>102</td>\n",
       "      <td>N</td>\n",
       "      <td>1</td>\n",
       "      <td>00:00:12</td>\n",
       "      <td>12</td>\n",
       "      <td>1</td>\n",
       "      <td>-1</td>\n",
       "      <td>None</td>\n",
       "      <td>-15</td>\n",
       "      <td>gag</td>\n",
       "      <td>0</td>\n",
       "      <td>0</td>\n",
       "      <td>0</td>\n",
       "      <td>0</td>\n",
       "    </tr>\n",
       "    <tr>\n",
       "      <th>3</th>\n",
       "      <td>1</td>\n",
       "      <td>In</td>\n",
       "      <td>1</td>\n",
       "      <td>00:00:32</td>\n",
       "      <td>32</td>\n",
       "      <td>1</td>\n",
       "      <td>5</td>\n",
       "      <td>gag</td>\n",
       "      <td>-2</td>\n",
       "      <td>gag</td>\n",
       "      <td>0</td>\n",
       "      <td>0</td>\n",
       "      <td>0</td>\n",
       "      <td>0</td>\n",
       "    </tr>\n",
       "    <tr>\n",
       "      <th>4</th>\n",
       "      <td>1</td>\n",
       "      <td>In</td>\n",
       "      <td>1</td>\n",
       "      <td>00:01:02</td>\n",
       "      <td>62</td>\n",
       "      <td>1</td>\n",
       "      <td>16</td>\n",
       "      <td>inicio</td>\n",
       "      <td>-3</td>\n",
       "      <td>gag</td>\n",
       "      <td>0</td>\n",
       "      <td>0</td>\n",
       "      <td>0</td>\n",
       "      <td>0</td>\n",
       "    </tr>\n",
       "  </tbody>\n",
       "</table>\n",
       "</div>"
      ],
      "text/plain": [
       "   duration event  subject    tiempo  time_s  trick  RT previous_event  \\\n",
       "0         1    Se        1  00:00:06       6      1  -1           None   \n",
       "1         1    Si        1  00:00:10      10      1  -1           None   \n",
       "2       102     N        1  00:00:12      12      1  -1           None   \n",
       "3         1    In        1  00:00:32      32      1   5            gag   \n",
       "4         1    In        1  00:01:02      62      1  16         inicio   \n",
       "\n",
       "   anticip_time next_event  r1 r2 r3 r4  \n",
       "0           -21        gag   0  0  0  0  \n",
       "1           -17        gag   0  0  0  0  \n",
       "2           -15        gag   0  0  0  0  \n",
       "3            -2        gag   0  0  0  0  \n",
       "4            -3        gag   0  0  0  0  "
      ]
     },
     "execution_count": 2,
     "metadata": {},
     "output_type": "execute_result"
    }
   ],
   "source": [
    "df = pd.read_excel('C:\\\\Users\\\\David\\\\Desktop\\\\David\\\\risa_aplausos\\\\df_subjects.xlsx')\n",
    "df.head()"
   ]
  },
  {
   "cell_type": "code",
   "execution_count": 3,
   "metadata": {},
   "outputs": [
    {
     "data": {
      "text/html": [
       "<div>\n",
       "<style scoped>\n",
       "    .dataframe tbody tr th:only-of-type {\n",
       "        vertical-align: middle;\n",
       "    }\n",
       "\n",
       "    .dataframe tbody tr th {\n",
       "        vertical-align: top;\n",
       "    }\n",
       "\n",
       "    .dataframe thead th {\n",
       "        text-align: right;\n",
       "    }\n",
       "</style>\n",
       "<table border=\"1\" class=\"dataframe\">\n",
       "  <thead>\n",
       "    <tr style=\"text-align: right;\">\n",
       "      <th></th>\n",
       "      <th>tiempo</th>\n",
       "      <th>evento</th>\n",
       "      <th>decripcion</th>\n",
       "      <th>times_s</th>\n",
       "      <th>evento_</th>\n",
       "    </tr>\n",
       "  </thead>\n",
       "  <tbody>\n",
       "    <tr>\n",
       "      <th>0</th>\n",
       "      <td>00:00:27</td>\n",
       "      <td>gag</td>\n",
       "      <td>broma sobre su dominio del catalán</td>\n",
       "      <td>27</td>\n",
       "      <td>gag</td>\n",
       "    </tr>\n",
       "    <tr>\n",
       "      <th>1</th>\n",
       "      <td>00:00:34</td>\n",
       "      <td>gag</td>\n",
       "      <td>\"Por deferencia\"</td>\n",
       "      <td>34</td>\n",
       "      <td>gag</td>\n",
       "    </tr>\n",
       "    <tr>\n",
       "      <th>2</th>\n",
       "      <td>00:00:46</td>\n",
       "      <td>inicio</td>\n",
       "      <td>Abre el estuche de la baraja</td>\n",
       "      <td>46</td>\n",
       "      <td>inicio</td>\n",
       "    </tr>\n",
       "    <tr>\n",
       "      <th>3</th>\n",
       "      <td>00:01:05</td>\n",
       "      <td>gag</td>\n",
       "      <td>\"Que haya público\"</td>\n",
       "      <td>65</td>\n",
       "      <td>gag</td>\n",
       "    </tr>\n",
       "    <tr>\n",
       "      <th>4</th>\n",
       "      <td>00:01:19</td>\n",
       "      <td>gag</td>\n",
       "      <td>\"El público de schroedinger\"</td>\n",
       "      <td>79</td>\n",
       "      <td>gag</td>\n",
       "    </tr>\n",
       "  </tbody>\n",
       "</table>\n",
       "</div>"
      ],
      "text/plain": [
       "    tiempo  evento                          decripcion  times_s evento_\n",
       "0 00:00:27     gag  broma sobre su dominio del catalán       27     gag\n",
       "1 00:00:34     gag                    \"Por deferencia\"       34     gag\n",
       "2 00:00:46  inicio        Abre el estuche de la baraja       46  inicio\n",
       "3 00:01:05     gag                  \"Que haya público\"       65     gag\n",
       "4 00:01:19     gag        \"El público de schroedinger\"       79     gag"
      ]
     },
     "execution_count": 3,
     "metadata": {},
     "output_type": "execute_result"
    }
   ],
   "source": [
    "##Actions Gea data\n",
    "df_gea=pd.read_excel(os.getcwd() + '\\\\EVENTOS_GEA.xlsx', sheet_name='Hoja2' )\n",
    "times_s = [df_gea.tiempo.iloc[i].minute*60 + df_gea.tiempo.iloc[i].second for i in range(len(df_gea))]\n",
    "df_gea['times_s'] = times_s\n",
    "\n",
    "### cambiar tiempo y tiempo_s por los corregidos, en los que se restan 10 minutos, 31 segundos. De esta manera, \n",
    "### los dos dataframes están sincronizados\n",
    "\n",
    "new_times=[]\n",
    "times_s_new=[]\n",
    "\n",
    "for i in range(len(df_gea)):\n",
    "    #print(i)\n",
    "    h = df_gea.tiempo.iloc[i]\n",
    "    h_t = str(h.hour) + ':' + str(h.minute) + ':' + str(h.second) \n",
    "    substracting = '00:10:31'\n",
    "    new_time = dt.strptime(h_t, \"%H:%M:%S\") - dt.strptime(substracting, \"%H:%M:%S\")\n",
    "    new_times.append(new_time)\n",
    "    ##\n",
    "    times_s_new.append(df_gea.times_s.loc[i] - (60*10 + 31) ) \n",
    "\n",
    "    \n",
    "df_gea['tiempo'] = new_times \n",
    "df_gea['times_s'] = times_s_new \n",
    "\n",
    "df_gea = df_gea.sort_values(by=['times_s'])\n",
    "\n",
    "df_gea= df_gea.reset_index()\n",
    "df_gea = df_gea[['tiempo', 'evento', 'decripcion', 'times_s']]\n",
    "df_gea['evento_'] = df_gea['evento'].copy()\n",
    "df_gea['evento_'] = df_gea['evento_'].replace(['Miniclimax', 'Climax final' ], ['climax', 'climax']) #for simplicity\n",
    "df_gea.head()"
   ]
  },
  {
   "cell_type": "code",
   "execution_count": null,
   "metadata": {},
   "outputs": [],
   "source": []
  },
  {
   "cell_type": "code",
   "execution_count": 4,
   "metadata": {},
   "outputs": [],
   "source": [
    "times_strat_trick = df_gea.loc[df_gea['evento']=='inicio'].times_s.values\n",
    "\n",
    "trick_ = []\n",
    "for i in range(len(df)):\n",
    "    t_ev = df.iloc[i].time_s\n",
    "    if t_ev<=times_strat_trick[0]:\n",
    "        trick_.append(0)\n",
    "    elif t_ev<=times_strat_trick[1]:\n",
    "        trick_.append(1)\n",
    "    elif t_ev<=times_strat_trick[2]:\n",
    "        trick_.append(2)\n",
    "    elif t_ev<=times_strat_trick[3]:\n",
    "        trick_.append(3)\n",
    "    elif t_ev<=times_strat_trick[4]:\n",
    "        trick_.append(4)\n",
    "    elif t_ev<=times_strat_trick[5]:\n",
    "        trick_.append(5)        \n",
    "    elif t_ev<=times_strat_trick[6]:\n",
    "        trick_.append(6)\n",
    "    elif t_ev<=times_strat_trick[7]:\n",
    "        trick_.append(7)\n",
    "    elif t_ev>times_strat_trick[7]:\n",
    "        trick_.append(8)\n",
    "\n",
    "### \n",
    "df['trick_'] = trick_"
   ]
  },
  {
   "cell_type": "code",
   "execution_count": 5,
   "metadata": {},
   "outputs": [],
   "source": [
    "results_mem=[]\n",
    "\n",
    "events = ['sonrisa', 'risa', 'sonris+risa','aplauso']\n",
    "cond_ev_list = [(df['event']=='S') ,\n",
    "               (df['event']=='R') ,\n",
    "               ((df['event']=='S') | (df['event']=='R')),\n",
    "               ((df['event']=='A')  | (df['event']=='a') | (df['event']=='AA') | (df['event']=='A+') | (df['event']=='AA+') | (df['event']=='a+')) ]\n",
    "\n",
    "\n",
    "\n",
    "for idx_ev , Event in enumerate(events):\n",
    "    COND_EV = cond_ev_list[idx_ev]\n",
    "    for Subject in df.subject.unique():\n",
    "        for trick in [1,2,3,4,5,6,7,8]:\n",
    "            ####\n",
    "            df_e = df.loc[(df['previous_event']=='Climax final') & (df['RT']<10) \n",
    "                   & (df['subject']==Subject)  & (df['trick_']==trick)  & COND_EV  ]\n",
    "\n",
    "            if len(df_e) == 0:\n",
    "                duration_ = 0\n",
    "            else:\n",
    "                duration_ = df_e.duration.sum() ##por si hay más de uno\n",
    "\n",
    "            #####\n",
    "            r1 = df.loc[(df['subject']==Subject)  & (df['trick']==trick)   ].r1.iloc[0]\n",
    "            r2 = df.loc[(df['subject']==Subject)  & (df['trick']==trick)   ].r2.iloc[0]\n",
    "            r3 = df.loc[(df['subject']==Subject)  & (df['trick']==trick)   ].r3.iloc[0]\n",
    "            r4 = df.loc[(df['subject']==Subject)  & (df['trick']==trick)   ].r4.iloc[0]\n",
    "            #####\n",
    "            res_m = pd.DataFrame(np.array([[Subject, trick, duration_, r1, 0, Event],\n",
    "                               [Subject, trick, duration_, r2,10, Event],\n",
    "                               [Subject, trick, duration_, r3,45, Event],\n",
    "                               [Subject, trick, duration_, r4,135, Event]]) )\n",
    "            results_mem.append(res_m)"
   ]
  },
  {
   "cell_type": "code",
   "execution_count": 6,
   "metadata": {},
   "outputs": [
    {
     "data": {
      "text/html": [
       "<div>\n",
       "<style scoped>\n",
       "    .dataframe tbody tr th:only-of-type {\n",
       "        vertical-align: middle;\n",
       "    }\n",
       "\n",
       "    .dataframe tbody tr th {\n",
       "        vertical-align: top;\n",
       "    }\n",
       "\n",
       "    .dataframe thead th {\n",
       "        text-align: right;\n",
       "    }\n",
       "</style>\n",
       "<table border=\"1\" class=\"dataframe\">\n",
       "  <thead>\n",
       "    <tr style=\"text-align: right;\">\n",
       "      <th></th>\n",
       "      <th>subject</th>\n",
       "      <th>trick</th>\n",
       "      <th>duration</th>\n",
       "      <th>memory</th>\n",
       "      <th>time</th>\n",
       "      <th>event</th>\n",
       "    </tr>\n",
       "  </thead>\n",
       "  <tbody>\n",
       "    <tr>\n",
       "      <th>0</th>\n",
       "      <td>1</td>\n",
       "      <td>1</td>\n",
       "      <td>8</td>\n",
       "      <td>0</td>\n",
       "      <td>0</td>\n",
       "      <td>sonrisa</td>\n",
       "    </tr>\n",
       "    <tr>\n",
       "      <th>1</th>\n",
       "      <td>1</td>\n",
       "      <td>1</td>\n",
       "      <td>8</td>\n",
       "      <td>0</td>\n",
       "      <td>10</td>\n",
       "      <td>sonrisa</td>\n",
       "    </tr>\n",
       "    <tr>\n",
       "      <th>2</th>\n",
       "      <td>1</td>\n",
       "      <td>1</td>\n",
       "      <td>8</td>\n",
       "      <td>0</td>\n",
       "      <td>45</td>\n",
       "      <td>sonrisa</td>\n",
       "    </tr>\n",
       "    <tr>\n",
       "      <th>3</th>\n",
       "      <td>1</td>\n",
       "      <td>1</td>\n",
       "      <td>8</td>\n",
       "      <td>0</td>\n",
       "      <td>135</td>\n",
       "      <td>sonrisa</td>\n",
       "    </tr>\n",
       "    <tr>\n",
       "      <th>0</th>\n",
       "      <td>1</td>\n",
       "      <td>2</td>\n",
       "      <td>6</td>\n",
       "      <td>0</td>\n",
       "      <td>0</td>\n",
       "      <td>sonrisa</td>\n",
       "    </tr>\n",
       "  </tbody>\n",
       "</table>\n",
       "</div>"
      ],
      "text/plain": [
       "   subject  trick  duration  memory  time    event\n",
       "0        1      1         8       0     0  sonrisa\n",
       "1        1      1         8       0    10  sonrisa\n",
       "2        1      1         8       0    45  sonrisa\n",
       "3        1      1         8       0   135  sonrisa\n",
       "0        1      2         6       0     0  sonrisa"
      ]
     },
     "execution_count": 6,
     "metadata": {},
     "output_type": "execute_result"
    }
   ],
   "source": [
    "results_mem_S = pd.concat(results_mem)\n",
    "results_mem_S.columns=['subject', 'trick', 'duration', 'memory', 'time', 'event']\n",
    "results_mem_S = results_mem_S.loc[results_mem_S['memory']!='Miss']\n",
    "results_mem_S['memory'] = results_mem_S['memory'].replace(['0', '1'], [0,1])\n",
    "#\n",
    "results_mem_S['time'] = pd.to_numeric(results_mem_S['time'])\n",
    "results_mem_S['memory'] = pd.to_numeric(results_mem_S['memory'])\n",
    "results_mem_S['duration'] = pd.to_numeric(results_mem_S['duration'])\n",
    "results_mem_S['trick'] = pd.to_numeric(results_mem_S['trick'])\n",
    "results_mem_S['subject'] = pd.to_numeric(results_mem_S['subject'])\n",
    "\n",
    "results_mem_S.head()"
   ]
  },
  {
   "cell_type": "code",
   "execution_count": null,
   "metadata": {},
   "outputs": [],
   "source": []
  },
  {
   "cell_type": "code",
   "execution_count": null,
   "metadata": {},
   "outputs": [],
   "source": []
  },
  {
   "cell_type": "code",
   "execution_count": 28,
   "metadata": {},
   "outputs": [],
   "source": [
    "##sonrisa t=0"
   ]
  },
  {
   "cell_type": "code",
   "execution_count": 39,
   "metadata": {},
   "outputs": [
    {
     "name": "stderr",
     "output_type": "stream",
     "text": [
      "C:\\Users\\David\\Anaconda3\\envs\\python3\\lib\\site-packages\\scipy\\stats\\stats.py:1713: FutureWarning: Using a non-tuple sequence for multidimensional indexing is deprecated; use `arr[tuple(seq)]` instead of `arr[seq]`. In the future this will be interpreted as an array index, `arr[np.array(seq)]`, which will result either in an error or a different result.\n",
      "  return np.add.reduce(sorted[indexer] * weights, axis=axis) / sumval\n",
      "No handles with labels found to put in legend.\n"
     ]
    },
    {
     "data": {
      "image/png": "[encoded data removed]",
      "text/plain": [
       "<Figure size 432x288 with 1 Axes>"
      ]
     },
     "metadata": {
      "needs_background": "light"
     },
     "output_type": "display_data"
    },
    {
     "data": {
      "text/plain": [
       "<matplotlib.legend.Legend at 0x225a8207278>"
      ]
     },
     "execution_count": 39,
     "metadata": {},
     "output_type": "execute_result"
    },
    {
     "data": {
      "image/png": "[encoded data removed]",
      "text/plain": [
       "<Figure size 432x288 with 1 Axes>"
      ]
     },
     "metadata": {
      "needs_background": "light"
     },
     "output_type": "display_data"
    }
   ],
   "source": [
    "plt.figure()\n",
    "sns.barplot(x=\"memory\", y=\"duration\",\n",
    "                data=results_mem_S.loc[(results_mem_S['time']==0) & (results_mem_S['event']=='sonrisa')], estimator=np.mean, \n",
    "                  ci=68, edgecolor='black', ecolor='k', alpha=1.)\n",
    "\n",
    "plt.gca().set_xlabel('remembered?')\n",
    "plt.gca().set_ylabel('duration (s)')\n",
    "plt.gca().spines['right'].set_visible(False)\n",
    "plt.gca().spines['top'].set_visible(False)\n",
    "plt.gca().tick_params(direction='in') #direction\n",
    "plt.gca().set_ylim(0,20)\n",
    "plt.gca().set_yticks([0, 10,20])\n",
    "plt.gca().tick_params(direction='in') #direction\n",
    "plt.gca().set_xticklabels(['no', 'yes'])\n",
    "\n",
    "plt.gca().set_title('t0, sonrisa')\n",
    "plt.legend(bbox_to_anchor=(1,1), loc=\"upper left\", frameon=False, fontsize=10)\n",
    "plt.show()\n",
    "\n",
    "#######################\n",
    "#######################\n",
    "#######################\n",
    "\n",
    "sns.barplot(x=\"memory\", y=\"duration\", hue='trick', hue_order=[1,2,3,4,5,6,7,8],\n",
    "                data=results_mem_S.loc[(results_mem_S['time']==0) & (results_mem_S['event']=='sonrisa')], estimator=np.mean, \n",
    "                  ci=68, palette='Oranges', edgecolor='black', ecolor='k', alpha=0.8)\n",
    "\n",
    "plt.gca().set_xlabel('remembered?')\n",
    "plt.gca().set_ylabel('duration (s)')\n",
    "plt.gca().spines['right'].set_visible(False)\n",
    "plt.gca().spines['top'].set_visible(False)\n",
    "plt.gca().tick_params(direction='in') #direction\n",
    "plt.gca().set_ylim(0,20)\n",
    "plt.gca().set_yticks([0, 10,20])\n",
    "plt.gca().tick_params(direction='in') #direction\n",
    "plt.gca().set_xticklabels(['no', 'yes'])\n",
    "\n",
    "plt.gca().set_title('t0, sonrisa')\n",
    "plt.legend(bbox_to_anchor=(1,1), loc=\"upper left\", frameon=False, fontsize=10)"
   ]
  },
  {
   "cell_type": "code",
   "execution_count": null,
   "metadata": {},
   "outputs": [],
   "source": []
  },
  {
   "cell_type": "code",
   "execution_count": null,
   "metadata": {},
   "outputs": [],
   "source": [
    "##aplausos t=0"
   ]
  },
  {
   "cell_type": "code",
   "execution_count": 42,
   "metadata": {},
   "outputs": [
    {
     "name": "stderr",
     "output_type": "stream",
     "text": [
      "C:\\Users\\David\\Anaconda3\\envs\\python3\\lib\\site-packages\\scipy\\stats\\stats.py:1713: FutureWarning: Using a non-tuple sequence for multidimensional indexing is deprecated; use `arr[tuple(seq)]` instead of `arr[seq]`. In the future this will be interpreted as an array index, `arr[np.array(seq)]`, which will result either in an error or a different result.\n",
      "  return np.add.reduce(sorted[indexer] * weights, axis=axis) / sumval\n",
      "No handles with labels found to put in legend.\n"
     ]
    },
    {
     "data": {
      "image/png": "[encoded data removed]",
      "text/plain": [
       "<Figure size 432x288 with 1 Axes>"
      ]
     },
     "metadata": {
      "needs_background": "light"
     },
     "output_type": "display_data"
    },
    {
     "data": {
      "text/plain": [
       "<matplotlib.legend.Legend at 0x225a81dcc50>"
      ]
     },
     "execution_count": 42,
     "metadata": {},
     "output_type": "execute_result"
    },
    {
     "data": {
      "image/png": "[encoded data removed]",
      "text/plain": [
       "<Figure size 432x288 with 1 Axes>"
      ]
     },
     "metadata": {
      "needs_background": "light"
     },
     "output_type": "display_data"
    }
   ],
   "source": [
    "plt.figure()\n",
    "sns.barplot(x=\"memory\", y=\"duration\",\n",
    "                data=results_mem_S.loc[(results_mem_S['time']==0) & (results_mem_S['event']=='aplauso')], estimator=np.mean, \n",
    "                  ci=68, edgecolor='black', ecolor='k', alpha=1.)\n",
    "\n",
    "plt.gca().set_xlabel('remembered?')\n",
    "plt.gca().set_ylabel('duration (s)')\n",
    "plt.gca().spines['right'].set_visible(False)\n",
    "plt.gca().spines['top'].set_visible(False)\n",
    "plt.gca().tick_params(direction='in') #direction\n",
    "plt.gca().set_ylim(0,20)\n",
    "plt.gca().set_yticks([0, 10,20])\n",
    "plt.gca().tick_params(direction='in') #direction\n",
    "plt.gca().set_xticklabels(['no', 'yes'])\n",
    "\n",
    "plt.gca().set_title('t0, aplauso')\n",
    "plt.legend(bbox_to_anchor=(1,1), loc=\"upper left\", frameon=False, fontsize=10)\n",
    "plt.show()\n",
    "\n",
    "#######################\n",
    "#######################\n",
    "#######################\n",
    "\n",
    "sns.barplot(x=\"memory\", y=\"duration\", hue='trick', hue_order=[1,2,3,4,5,6,7,8],\n",
    "                data=results_mem_S.loc[(results_mem_S['time']==0) & (results_mem_S['event']=='aplauso')], estimator=np.mean, \n",
    "                  ci=68, palette='Oranges', edgecolor='black', ecolor='k', alpha=0.8)\n",
    "\n",
    "plt.gca().set_xlabel('remembered?')\n",
    "plt.gca().set_ylabel('duration (s)')\n",
    "plt.gca().spines['right'].set_visible(False)\n",
    "plt.gca().spines['top'].set_visible(False)\n",
    "plt.gca().tick_params(direction='in') #direction\n",
    "plt.gca().set_ylim(0,20)\n",
    "plt.gca().set_yticks([0, 10,20])\n",
    "plt.gca().tick_params(direction='in') #direction\n",
    "plt.gca().set_xticklabels(['no', 'yes'])\n",
    "\n",
    "plt.gca().set_title('t0, aplauso')\n",
    "plt.legend(bbox_to_anchor=(1,1), loc=\"upper left\", frameon=False, fontsize=10)"
   ]
  },
  {
   "cell_type": "code",
   "execution_count": null,
   "metadata": {},
   "outputs": [],
   "source": []
  },
  {
   "cell_type": "code",
   "execution_count": null,
   "metadata": {},
   "outputs": [],
   "source": []
  },
  {
   "cell_type": "code",
   "execution_count": 12,
   "metadata": {},
   "outputs": [
    {
     "name": "stderr",
     "output_type": "stream",
     "text": [
      "No handles with labels found to put in legend.\n"
     ]
    },
    {
     "data": {
      "image/png": "[encoded data removed]",
      "text/plain": [
       "<Figure size 432x288 with 1 Axes>"
      ]
     },
     "metadata": {
      "needs_background": "light"
     },
     "output_type": "display_data"
    },
    {
     "name": "stdout",
     "output_type": "stream",
     "text": [
      "         Mixed Linear Model Regression Results\n",
      "=======================================================\n",
      "Model:            MixedLM Dependent Variable: memory   \n",
      "No. Observations: 304     Method:             REML     \n",
      "No. Groups:       38      Scale:              0.2216   \n",
      "Min. group size:  8       Likelihood:         -208.7184\n",
      "Max. group size:  8       Converged:          Yes      \n",
      "Mean group size:  8.0                                  \n",
      "-------------------------------------------------------\n",
      "             Coef.  Std.Err.   z    P>|z| [0.025 0.975]\n",
      "-------------------------------------------------------\n",
      "Intercept     0.715    0.034 20.953 0.000  0.648  0.781\n",
      "duration     -0.011    0.004 -3.035 0.002 -0.019 -0.004\n",
      "Group Var     0.000    0.016                           \n",
      "=======================================================\n",
      "\n"
     ]
    },
    {
     "name": "stderr",
     "output_type": "stream",
     "text": [
      "C:\\Users\\David\\Anaconda3\\envs\\python3\\lib\\site-packages\\statsmodels\\regression\\mixed_linear_model.py:2045: ConvergenceWarning: The MLE may be on the boundary of the parameter space.\n",
      "  warnings.warn(msg, ConvergenceWarning)\n"
     ]
    }
   ],
   "source": [
    "plt.figure()\n",
    "linares_plot(x=\"memory\", y=\"duration\", order=[0,1], \n",
    "                df=results_mem_S.loc[(results_mem_S['time']==0) & (results_mem_S['event']=='sonrisa')],  \n",
    "                palette=['darkblue', 'darkorange'], point_size=7, reps=100,\n",
    "                by_subj=True, subj_col='subject',fill_box=True, CI=0.95, alpha_box=0.8)\n",
    "\n",
    "plt.gca().set_xlabel('remembered?')\n",
    "plt.gca().set_ylabel('duration (s)')\n",
    "plt.gca().spines['right'].set_visible(False)\n",
    "plt.gca().spines['top'].set_visible(False)\n",
    "plt.gca().tick_params(direction='in') #direction\n",
    "# plt.gca().set_ylim(-5,25)\n",
    "# plt.gca().set_yticks([0, 10,20])\n",
    "plt.gca().tick_params(direction='in') #direction\n",
    "plt.gca().set_xticklabels(['no', 'yes'])\n",
    "\n",
    "plt.gca().set_title('t0, sonrisa')\n",
    "plt.legend(bbox_to_anchor=(1,1), loc=\"upper left\", frameon=False, fontsize=10)\n",
    "plt.show()\n",
    "\n",
    "\n",
    "md = smf.mixedlm('memory~duration', \n",
    "                 data=results_mem_S.loc[(results_mem_S['time']==0) & (results_mem_S['event']=='sonrisa')],\n",
    "                 groups=results_mem_S.loc[(results_mem_S['time']==0) & (results_mem_S['event']=='sonrisa'), 'subject'])\n",
    "mdf = md.fit()\n",
    "print(mdf.summary())"
   ]
  },
  {
   "cell_type": "code",
   "execution_count": 13,
   "metadata": {},
   "outputs": [
    {
     "name": "stderr",
     "output_type": "stream",
     "text": [
      "No handles with labels found to put in legend.\n"
     ]
    },
    {
     "data": {
      "image/png": "[encoded data removed]",
      "text/plain": [
       "<Figure size 432x288 with 1 Axes>"
      ]
     },
     "metadata": {
      "needs_background": "light"
     },
     "output_type": "display_data"
    },
    {
     "name": "stdout",
     "output_type": "stream",
     "text": [
      "         Mixed Linear Model Regression Results\n",
      "=======================================================\n",
      "Model:            MixedLM Dependent Variable: memory   \n",
      "No. Observations: 304     Method:             REML     \n",
      "No. Groups:       38      Scale:              0.2269   \n",
      "Min. group size:  8       Likelihood:         -210.5365\n",
      "Max. group size:  8       Converged:          Yes      \n",
      "Mean group size:  8.0                                  \n",
      "-------------------------------------------------------\n",
      "             Coef.  Std.Err.   z    P>|z| [0.025 0.975]\n",
      "-------------------------------------------------------\n",
      "Intercept     0.661    0.029 23.124 0.000  0.605  0.717\n",
      "duration     -0.036    0.028 -1.291 0.197 -0.090  0.019\n",
      "Group Var     0.000    0.015                           \n",
      "=======================================================\n",
      "\n"
     ]
    },
    {
     "name": "stderr",
     "output_type": "stream",
     "text": [
      "C:\\Users\\David\\Anaconda3\\envs\\python3\\lib\\site-packages\\statsmodels\\regression\\mixed_linear_model.py:2045: ConvergenceWarning: The MLE may be on the boundary of the parameter space.\n",
      "  warnings.warn(msg, ConvergenceWarning)\n"
     ]
    }
   ],
   "source": [
    "plt.figure()\n",
    "linares_plot(x=\"memory\", y=\"duration\", order=[0,1], \n",
    "                df=results_mem_S.loc[(results_mem_S['time']==0) & (results_mem_S['event']=='risa')],  \n",
    "                palette=['darkblue', 'darkorange'], point_size=7, reps=100,\n",
    "                by_subj=True, subj_col='subject',fill_box=True, CI=0.95, alpha_box=0.8)\n",
    "\n",
    "plt.gca().set_xlabel('remembered?')\n",
    "plt.gca().set_ylabel('duration (s)')\n",
    "plt.gca().spines['right'].set_visible(False)\n",
    "plt.gca().spines['top'].set_visible(False)\n",
    "plt.gca().tick_params(direction='in') #direction\n",
    "# plt.gca().set_ylim(-5,25)\n",
    "# plt.gca().set_yticks([0, 10,20])\n",
    "plt.gca().tick_params(direction='in') #direction\n",
    "plt.gca().set_xticklabels(['no', 'yes'])\n",
    "\n",
    "plt.gca().set_title('t0, risa')\n",
    "plt.legend(bbox_to_anchor=(1,1), loc=\"upper left\", frameon=False, fontsize=10)\n",
    "plt.show()\n",
    "\n",
    "\n",
    "md = smf.mixedlm('memory~duration', \n",
    "                 data=results_mem_S.loc[(results_mem_S['time']==0) & (results_mem_S['event']=='risa')],\n",
    "                 groups=results_mem_S.loc[(results_mem_S['time']==0) & (results_mem_S['event']=='risa'), 'subject'])\n",
    "mdf = md.fit()\n",
    "print(mdf.summary())"
   ]
  },
  {
   "cell_type": "code",
   "execution_count": null,
   "metadata": {},
   "outputs": [],
   "source": []
  },
  {
   "cell_type": "code",
   "execution_count": 10,
   "metadata": {},
   "outputs": [
    {
     "name": "stderr",
     "output_type": "stream",
     "text": [
      "No handles with labels found to put in legend.\n"
     ]
    },
    {
     "data": {
      "image/png": "[encoded data removed]",
      "text/plain": [
       "<Figure size 432x288 with 1 Axes>"
      ]
     },
     "metadata": {
      "needs_background": "light"
     },
     "output_type": "display_data"
    },
    {
     "name": "stdout",
     "output_type": "stream",
     "text": [
      "         Mixed Linear Model Regression Results\n",
      "=======================================================\n",
      "Model:            MixedLM Dependent Variable: memory   \n",
      "No. Observations: 304     Method:             REML     \n",
      "No. Groups:       38      Scale:              0.2265   \n",
      "Min. group size:  8       Likelihood:         -212.8269\n",
      "Max. group size:  8       Converged:          Yes      \n",
      "Mean group size:  8.0                                  \n",
      "-------------------------------------------------------\n",
      "              Coef. Std.Err.   z    P>|z| [0.025 0.975]\n",
      "-------------------------------------------------------\n",
      "Intercept     0.623    0.043 14.592 0.000  0.539  0.706\n",
      "duration      0.004    0.004  0.891 0.373 -0.005  0.012\n",
      "Group Var     0.002    0.016                           \n",
      "=======================================================\n",
      "\n"
     ]
    },
    {
     "name": "stderr",
     "output_type": "stream",
     "text": [
      "C:\\Users\\David\\Anaconda3\\envs\\python3\\lib\\site-packages\\statsmodels\\regression\\mixed_linear_model.py:2045: ConvergenceWarning: The MLE may be on the boundary of the parameter space.\n",
      "  warnings.warn(msg, ConvergenceWarning)\n"
     ]
    }
   ],
   "source": [
    "plt.figure()\n",
    "linares_plot(x=\"memory\", y=\"duration\", order=[0,1], \n",
    "                df=results_mem_S.loc[(results_mem_S['time']==0) & (results_mem_S['event']=='aplauso')],  \n",
    "                palette=['darkblue', 'darkorange'], point_size=7, reps=100,\n",
    "                by_subj=True, subj_col='subject',fill_box=True, CI=0.95, alpha_box=0.8)\n",
    "\n",
    "plt.gca().set_xlabel('remembered?')\n",
    "plt.gca().set_ylabel('duration (s)')\n",
    "plt.gca().spines['right'].set_visible(False)\n",
    "plt.gca().spines['top'].set_visible(False)\n",
    "plt.gca().tick_params(direction='in') #direction\n",
    "plt.gca().set_ylim(-5,20)\n",
    "plt.gca().set_yticks([0, 10,20])\n",
    "plt.gca().tick_params(direction='in') #direction\n",
    "plt.gca().set_xticklabels(['no', 'yes'])\n",
    "\n",
    "plt.gca().set_title('t0, aplauso')\n",
    "plt.legend(bbox_to_anchor=(1,1), loc=\"upper left\", frameon=False, fontsize=10)\n",
    "plt.show()\n",
    "\n",
    "\n",
    "md = smf.mixedlm('memory~duration', \n",
    "                 data=results_mem_S.loc[(results_mem_S['time']==0) & (results_mem_S['event']=='aplauso')],\n",
    "                 groups=results_mem_S.loc[(results_mem_S['time']==0) & (results_mem_S['event']=='aplauso'), 'subject'])\n",
    "mdf = md.fit()\n",
    "print(mdf.summary())"
   ]
  },
  {
   "cell_type": "code",
   "execution_count": null,
   "metadata": {},
   "outputs": [],
   "source": []
  },
  {
   "cell_type": "code",
   "execution_count": null,
   "metadata": {},
   "outputs": [],
   "source": []
  },
  {
   "cell_type": "code",
   "execution_count": null,
   "metadata": {},
   "outputs": [],
   "source": []
  },
  {
   "cell_type": "code",
   "execution_count": 11,
   "metadata": {},
   "outputs": [
    {
     "name": "stderr",
     "output_type": "stream",
     "text": [
      "C:\\Users\\David\\Anaconda3\\envs\\python3\\lib\\site-packages\\scipy\\stats\\stats.py:1713: FutureWarning: Using a non-tuple sequence for multidimensional indexing is deprecated; use `arr[tuple(seq)]` instead of `arr[seq]`. In the future this will be interpreted as an array index, `arr[np.array(seq)]`, which will result either in an error or a different result.\n",
      "  return np.add.reduce(sorted[indexer] * weights, axis=axis) / sumval\n"
     ]
    },
    {
     "data": {
      "image/png": "[encoded data removed]",
      "text/plain": [
       "<Figure size 432x288 with 1 Axes>"
      ]
     },
     "metadata": {
      "needs_background": "light"
     },
     "output_type": "display_data"
    },
    {
     "name": "stdout",
     "output_type": "stream",
     "text": [
      "                            OLS Regression Results                            \n",
      "==============================================================================\n",
      "Dep. Variable:               duration   R-squared:                       0.002\n",
      "Model:                            OLS   Adj. R-squared:                 -0.002\n",
      "Method:                 Least Squares   F-statistic:                    0.4606\n",
      "Date:                Sun, 18 Apr 2021   Prob (F-statistic):              0.710\n",
      "Time:                        12:22:55   Log-Likelihood:                -2845.0\n",
      "No. Observations:                 864   AIC:                             5698.\n",
      "Df Residuals:                     860   BIC:                             5717.\n",
      "Df Model:                           3                                         \n",
      "Covariance Type:            nonrobust                                         \n",
      "===============================================================================\n",
      "                  coef    std err          t      P>|t|      [0.025      0.975]\n",
      "-------------------------------------------------------------------------------\n",
      "Intercept       7.2827      0.438     16.628      0.000       6.423       8.142\n",
      "time            0.0045      0.006      0.724      0.469      -0.008       0.017\n",
      "memory          0.3350      0.566      0.592      0.554      -0.775       1.445\n",
      "time:memory     0.0006      0.009      0.063      0.950      -0.018       0.019\n",
      "==============================================================================\n",
      "Omnibus:                      145.368   Durbin-Watson:                   0.559\n",
      "Prob(Omnibus):                  0.000   Jarque-Bera (JB):              229.335\n",
      "Skew:                           1.107   Prob(JB):                     1.59e-50\n",
      "Kurtosis:                       4.211   Cond. No.                         200.\n",
      "==============================================================================\n",
      "\n",
      "Warnings:\n",
      "[1] Standard Errors assume that the covariance matrix of the errors is correctly specified.\n",
      "                            OLS Regression Results                            \n",
      "==============================================================================\n",
      "Dep. Variable:               duration   R-squared:                       0.001\n",
      "Model:                            OLS   Adj. R-squared:                 -0.001\n",
      "Method:                 Least Squares   F-statistic:                    0.4407\n",
      "Date:                Sun, 18 Apr 2021   Prob (F-statistic):              0.507\n",
      "Time:                        12:22:55   Log-Likelihood:                -1567.3\n",
      "No. Observations:                 465   AIC:                             3139.\n",
      "Df Residuals:                     463   BIC:                             3147.\n",
      "Df Model:                           1                                         \n",
      "Covariance Type:            nonrobust                                         \n",
      "==============================================================================\n",
      "                 coef    std err          t      P>|t|      [0.025      0.975]\n",
      "------------------------------------------------------------------------------\n",
      "Intercept      7.6177      0.387     19.688      0.000       6.857       8.378\n",
      "time           0.0051      0.008      0.664      0.507      -0.010       0.020\n",
      "==============================================================================\n",
      "Omnibus:                       75.075   Durbin-Watson:                   0.881\n",
      "Prob(Omnibus):                  0.000   Jarque-Bera (JB):              108.529\n",
      "Skew:                           1.104   Prob(JB):                     2.71e-24\n",
      "Kurtosis:                       3.855   Cond. No.                         59.8\n",
      "==============================================================================\n",
      "\n",
      "Warnings:\n",
      "[1] Standard Errors assume that the covariance matrix of the errors is correctly specified.\n"
     ]
    }
   ],
   "source": [
    "plt.figure()\n",
    "sns.barplot(x=\"memory\", y=\"duration\", hue='time', hue_order=[0,10,45,135],\n",
    "                data=results_mem_S, estimator=np.mean, \n",
    "                  ci=68, palette='Oranges', edgecolor='black', ecolor='k', alpha=0.8)\n",
    "\n",
    "plt.gca().set_xlabel('remembered?')\n",
    "plt.gca().set_ylabel('duration applauses (s)')\n",
    "plt.gca().spines['right'].set_visible(False)\n",
    "plt.gca().spines['top'].set_visible(False)\n",
    "plt.gca().tick_params(direction='in') #direction\n",
    "plt.gca().set_ylim(0,20)\n",
    "plt.gca().set_yticks([0, 10,20])\n",
    "plt.gca().tick_params(direction='in') #direction\n",
    "plt.gca().set_xticklabels(['no', 'yes'])\n",
    "\n",
    "plt.gca().set_title('all tricks')\n",
    "\n",
    "h, l = plt.gca().get_legend_handles_labels()\n",
    "labels=['0', '10', '45', '135']\n",
    "plt.gca().legend(h, labels, title=\"\", frameon=False, prop={'size': 16}, bbox_to_anchor=(1.05, 1))\n",
    "\n",
    "plt.show()\n",
    "\n",
    "\n",
    "\n",
    "#####\n",
    "Tx= results_mem_S\n",
    "Tx['subject'] = pd.to_numeric(Tx['subject'])\n",
    "Tx['memory'] = pd.to_numeric(Tx['memory'])\n",
    "Tx['duration'] = pd.to_numeric(Tx['duration'])\n",
    "Tx['time'] = pd.to_numeric(Tx['time'])\n",
    "##ç\n",
    "\n",
    "r = smf.ols(formula='duration~time*memory', data=Tx).fit()\n",
    "print(r.summary())\n",
    "\n",
    "r = smf.ols(formula='duration~time', data=Tx.loc[Tx['memory']==1]).fit()\n",
    "print(r.summary())"
   ]
  },
  {
   "cell_type": "code",
   "execution_count": null,
   "metadata": {},
   "outputs": [],
   "source": []
  }
 ],
 "metadata": {
  "kernelspec": {
   "display_name": "Python 3",
   "language": "python",
   "name": "python3"
  },
  "language_info": {
   "codemirror_mode": {
    "name": "ipython",
    "version": 3
   },
   "file_extension": ".py",
   "mimetype": "text/x-python",
   "name": "python",
   "nbconvert_exporter": "python",
   "pygments_lexer": "ipython3",
   "version": "3.5.6"
  }
 },
 "nbformat": 4,
 "nbformat_minor": 2
}
