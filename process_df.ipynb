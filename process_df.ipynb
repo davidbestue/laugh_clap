{
 "cells": [
  {
   "cell_type": "code",
   "execution_count": 109,
   "metadata": {},
   "outputs": [],
   "source": [
    "import numpy as np\n",
    "import statsmodels.formula.api as smf\n",
    "import pandas as pd\n",
    "import matplotlib.pyplot as plt\n",
    "import os\n",
    "import seaborn as sns  \n",
    "from linares_plot import *"
   ]
  },
  {
   "cell_type": "code",
   "execution_count": 110,
   "metadata": {},
   "outputs": [
    {
     "name": "stderr",
     "output_type": "stream",
     "text": [
      "C:\\Users\\David\\Anaconda3\\envs\\python3\\lib\\site-packages\\ipykernel_launcher.py:12: SettingWithCopyWarning: \n",
      "A value is trying to be set on a copy of a slice from a DataFrame.\n",
      "Try using .loc[row_indexer,col_indexer] = value instead\n",
      "\n",
      "See the caveats in the documentation: http://pandas.pydata.org/pandas-docs/stable/indexing.html#indexing-view-versus-copy\n",
      "  if sys.path[0] == '':\n",
      "C:\\Users\\David\\Anaconda3\\envs\\python3\\lib\\site-packages\\ipykernel_launcher.py:13: SettingWithCopyWarning: \n",
      "A value is trying to be set on a copy of a slice from a DataFrame.\n",
      "Try using .loc[row_indexer,col_indexer] = value instead\n",
      "\n",
      "See the caveats in the documentation: http://pandas.pydata.org/pandas-docs/stable/indexing.html#indexing-view-versus-copy\n",
      "  del sys.path[0]\n"
     ]
    }
   ],
   "source": [
    "##Abrir los datos \n",
    "## Hacer un dataframe para cada subject en cada truco\n",
    "## Concatenar esos dataframe (manteniendo información de truco i subject)\n",
    "## Añadir también una columna con los tiempos (el que estaba y en segundo)\n",
    "\n",
    "frames=[]\n",
    "Trucos=['Truco 1', 'Truco 2', 'Truco 3', 'Truco 4', 'Truco 5', 'Truco 6', 'Truco 7', 'Truco 8' ]\n",
    "\n",
    "for T in Trucos:\n",
    "    Df=pd.read_excel(os.getcwd() + '\\\\ANOTACIONES_.xlsx', sheet_name= T )\n",
    "    subj_idx = Df.columns[2:]\n",
    "    #   \n",
    "    for s in subj_idx:\n",
    "        df_x = Df[['Tiempo_s', 'Tiempo', s]]\n",
    "        df_x.columns=['time_s', 'time_min_sec', 'labels']\n",
    "        df_x['subject']=s\n",
    "        df_x['trick']=int(T.split(' ')[1])\n",
    "        frames.append(df_x)\n",
    "\n",
    "df = pd.concat(frames, ignore_index=True)"
   ]
  },
  {
   "cell_type": "code",
   "execution_count": 118,
   "metadata": {},
   "outputs": [
    {
     "data": {
      "text/plain": [
       "10313"
      ]
     },
     "execution_count": 118,
     "metadata": {},
     "output_type": "execute_result"
    }
   ],
   "source": [
    "df_ = df.loc[~pd.isna(df['labels'])]\n",
    "df_.head()\n",
    "len(df_)"
   ]
  },
  {
   "cell_type": "code",
   "execution_count": 120,
   "metadata": {},
   "outputs": [
    {
     "name": "stdout",
     "output_type": "stream",
     "text": [
      "14419\n"
     ]
    },
    {
     "data": {
      "text/html": [
       "<div>\n",
       "<style scoped>\n",
       "    .dataframe tbody tr th:only-of-type {\n",
       "        vertical-align: middle;\n",
       "    }\n",
       "\n",
       "    .dataframe tbody tr th {\n",
       "        vertical-align: top;\n",
       "    }\n",
       "\n",
       "    .dataframe thead th {\n",
       "        text-align: right;\n",
       "    }\n",
       "</style>\n",
       "<table border=\"1\" class=\"dataframe\">\n",
       "  <thead>\n",
       "    <tr style=\"text-align: right;\">\n",
       "      <th></th>\n",
       "      <th>time_s</th>\n",
       "      <th>time_min_sec</th>\n",
       "      <th>labels</th>\n",
       "      <th>subject</th>\n",
       "      <th>trick</th>\n",
       "    </tr>\n",
       "  </thead>\n",
       "  <tbody>\n",
       "    <tr>\n",
       "      <th>0</th>\n",
       "      <td>8</td>\n",
       "      <td>00:00:08</td>\n",
       "      <td>Se</td>\n",
       "      <td>1</td>\n",
       "      <td>1</td>\n",
       "    </tr>\n",
       "    <tr>\n",
       "      <th>1</th>\n",
       "      <td>10</td>\n",
       "      <td>00:00:10</td>\n",
       "      <td>B</td>\n",
       "      <td>1</td>\n",
       "      <td>1</td>\n",
       "    </tr>\n",
       "    <tr>\n",
       "      <th>2</th>\n",
       "      <td>30</td>\n",
       "      <td>00:00:30</td>\n",
       "      <td>In</td>\n",
       "      <td>1</td>\n",
       "      <td>1</td>\n",
       "    </tr>\n",
       "    <tr>\n",
       "      <th>3</th>\n",
       "      <td>110</td>\n",
       "      <td>00:01:50</td>\n",
       "      <td>L</td>\n",
       "      <td>1</td>\n",
       "      <td>1</td>\n",
       "    </tr>\n",
       "    <tr>\n",
       "      <th>4</th>\n",
       "      <td>126</td>\n",
       "      <td>00:02:06</td>\n",
       "      <td>B</td>\n",
       "      <td>1</td>\n",
       "      <td>1</td>\n",
       "    </tr>\n",
       "    <tr>\n",
       "      <th>5</th>\n",
       "      <td>132</td>\n",
       "      <td>00:02:12</td>\n",
       "      <td>L</td>\n",
       "      <td>1</td>\n",
       "      <td>1</td>\n",
       "    </tr>\n",
       "    <tr>\n",
       "      <th>6</th>\n",
       "      <td>140</td>\n",
       "      <td>00:02:20</td>\n",
       "      <td>I</td>\n",
       "      <td>1</td>\n",
       "      <td>1</td>\n",
       "    </tr>\n",
       "    <tr>\n",
       "      <th>7</th>\n",
       "      <td>140</td>\n",
       "      <td>00:02:20</td>\n",
       "      <td>S</td>\n",
       "      <td>1</td>\n",
       "      <td>1</td>\n",
       "    </tr>\n",
       "    <tr>\n",
       "      <th>8</th>\n",
       "      <td>146</td>\n",
       "      <td>00:02:26</td>\n",
       "      <td>L</td>\n",
       "      <td>1</td>\n",
       "      <td>1</td>\n",
       "    </tr>\n",
       "    <tr>\n",
       "      <th>9</th>\n",
       "      <td>156</td>\n",
       "      <td>00:02:36</td>\n",
       "      <td>S</td>\n",
       "      <td>1</td>\n",
       "      <td>1</td>\n",
       "    </tr>\n",
       "  </tbody>\n",
       "</table>\n",
       "</div>"
      ],
      "text/plain": [
       "   time_s time_min_sec labels  subject  trick\n",
       "0       8     00:00:08     Se        1      1\n",
       "1      10     00:00:10      B        1      1\n",
       "2      30     00:00:30     In        1      1\n",
       "3     110     00:01:50      L        1      1\n",
       "4     126     00:02:06      B        1      1\n",
       "5     132     00:02:12      L        1      1\n",
       "6     140     00:02:20      I        1      1\n",
       "7     140     00:02:20      S        1      1\n",
       "8     146     00:02:26      L        1      1\n",
       "9     156     00:02:36      S        1      1"
      ]
     },
     "execution_count": 120,
     "metadata": {},
     "output_type": "execute_result"
    }
   ],
   "source": [
    "n_actions = len(df_.labels.iloc[0].split(','))\n",
    "\n",
    "items=[]\n",
    "\n",
    "for i in range(len(df_)):\n",
    "    #print(i)\n",
    "    n_actions = len(df_.labels.iloc[i].split(','))\n",
    "    if n_actions==1:\n",
    "        items.append([df_.time_s.iloc[i], df_.time_min_sec.iloc[i], \n",
    "                      df_.labels.iloc[i], df_.subject.iloc[i],  df_.trick.iloc[i]  ])\n",
    "    elif n_actions>1:\n",
    "        actions = df_.labels.iloc[i].split(',')\n",
    "        for a in range(0, n_actions):\n",
    "            items.append([df_.time_s.iloc[i], df_.time_min_sec.iloc[i], \n",
    "                          actions[a], df_.subject.iloc[i],  df_.trick.iloc[i]  ])\n",
    "            \n",
    "            \n",
    "df_actions = pd.DataFrame(items)    \n",
    "df_actions.columns = ['time_s', 'time_min_sec', 'labels', 'subject', 'trick']\n",
    "print(len(df_actions))\n",
    "df_actions.head(10)"
   ]
  },
  {
   "cell_type": "code",
   "execution_count": null,
   "metadata": {},
   "outputs": [],
   "source": []
  }
 ],
 "metadata": {
  "kernelspec": {
   "display_name": "Python 3",
   "language": "python",
   "name": "python3"
  },
  "language_info": {
   "codemirror_mode": {
    "name": "ipython",
    "version": 3
   },
   "file_extension": ".py",
   "mimetype": "text/x-python",
   "name": "python",
   "nbconvert_exporter": "python",
   "pygments_lexer": "ipython3",
   "version": "3.5.6"
  }
 },
 "nbformat": 4,
 "nbformat_minor": 2
}
