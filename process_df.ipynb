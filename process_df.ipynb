{
 "cells": [
  {
   "cell_type": "code",
   "execution_count": 1,
   "metadata": {},
   "outputs": [],
   "source": [
    "import numpy as np\n",
    "import statsmodels.formula.api as smf\n",
    "import pandas as pd\n",
    "import matplotlib.pyplot as plt\n",
    "import os\n",
    "import seaborn as sns  \n",
    "from linares_plot import *\n",
    "from datetime import datetime\n"
   ]
  },
  {
   "cell_type": "code",
   "execution_count": 2,
   "metadata": {},
   "outputs": [
    {
     "name": "stderr",
     "output_type": "stream",
     "text": [
      "C:\\Users\\David\\Anaconda3\\envs\\python3\\lib\\site-packages\\ipykernel_launcher.py:16: SettingWithCopyWarning: \n",
      "A value is trying to be set on a copy of a slice from a DataFrame.\n",
      "Try using .loc[row_indexer,col_indexer] = value instead\n",
      "\n",
      "See the caveats in the documentation: http://pandas.pydata.org/pandas-docs/stable/indexing.html#indexing-view-versus-copy\n",
      "  app.launch_new_instance()\n",
      "C:\\Users\\David\\Anaconda3\\envs\\python3\\lib\\site-packages\\ipykernel_launcher.py:17: SettingWithCopyWarning: \n",
      "A value is trying to be set on a copy of a slice from a DataFrame.\n",
      "Try using .loc[row_indexer,col_indexer] = value instead\n",
      "\n",
      "See the caveats in the documentation: http://pandas.pydata.org/pandas-docs/stable/indexing.html#indexing-view-versus-copy\n"
     ]
    }
   ],
   "source": [
    "##Abrir los datos \n",
    "## Hacer un dataframe para cada subject en cada truco\n",
    "## Concatenar esos dataframe (manteniendo información de truco i subject)\n",
    "## Añadir también una columna con los tiempos (el que estaba y en segundo)\n",
    "\n",
    "frames=[]\n",
    "Trucos=['Truco 1', 'Truco 2', 'Truco 3', 'Truco 4', 'Truco 5', 'Truco 6', 'Truco 7', 'Truco 8' ]\n",
    "\n",
    "for T in Trucos:\n",
    "    Df=pd.read_excel(os.getcwd() + '\\\\ANOTACIONES_.xlsx', sheet_name= T )\n",
    "    subj_idx = Df.columns[2:]\n",
    "    #   \n",
    "    for s in subj_idx:\n",
    "        df_x = Df[['Tiempo_s', 'Tiempo', s]]\n",
    "        df_x.columns=['time_s', 'time_min_sec', 'labels']\n",
    "        df_x['subject']=s\n",
    "        df_x['trick']=int(T.split(' ')[1])\n",
    "        frames.append(df_x)\n",
    "\n",
    "Df = pd.concat(frames, ignore_index=True)"
   ]
  },
  {
   "cell_type": "code",
   "execution_count": 31,
   "metadata": {},
   "outputs": [
    {
     "data": {
      "text/plain": [
       "10302"
      ]
     },
     "execution_count": 31,
     "metadata": {},
     "output_type": "execute_result"
    }
   ],
   "source": [
    "### Quitar los momentos en que no hay eventos! (Nans fuera)\n",
    "df_ = Df.loc[~pd.isna(Df['labels'])]\n",
    "df_.head()\n",
    "len(df_) "
   ]
  },
  {
   "cell_type": "code",
   "execution_count": 32,
   "metadata": {},
   "outputs": [
    {
     "name": "stdout",
     "output_type": "stream",
     "text": [
      "14411\n"
     ]
    },
    {
     "data": {
      "text/html": [
       "<div>\n",
       "<style scoped>\n",
       "    .dataframe tbody tr th:only-of-type {\n",
       "        vertical-align: middle;\n",
       "    }\n",
       "\n",
       "    .dataframe tbody tr th {\n",
       "        vertical-align: top;\n",
       "    }\n",
       "\n",
       "    .dataframe thead th {\n",
       "        text-align: right;\n",
       "    }\n",
       "</style>\n",
       "<table border=\"1\" class=\"dataframe\">\n",
       "  <thead>\n",
       "    <tr style=\"text-align: right;\">\n",
       "      <th></th>\n",
       "      <th>time_s</th>\n",
       "      <th>time_min_sec</th>\n",
       "      <th>labels</th>\n",
       "      <th>subject</th>\n",
       "      <th>trick</th>\n",
       "    </tr>\n",
       "  </thead>\n",
       "  <tbody>\n",
       "    <tr>\n",
       "      <th>0</th>\n",
       "      <td>8</td>\n",
       "      <td>00:00:08</td>\n",
       "      <td>Se</td>\n",
       "      <td>1</td>\n",
       "      <td>1</td>\n",
       "    </tr>\n",
       "    <tr>\n",
       "      <th>1</th>\n",
       "      <td>10</td>\n",
       "      <td>00:00:10</td>\n",
       "      <td>B</td>\n",
       "      <td>1</td>\n",
       "      <td>1</td>\n",
       "    </tr>\n",
       "    <tr>\n",
       "      <th>2</th>\n",
       "      <td>30</td>\n",
       "      <td>00:00:30</td>\n",
       "      <td>In</td>\n",
       "      <td>1</td>\n",
       "      <td>1</td>\n",
       "    </tr>\n",
       "    <tr>\n",
       "      <th>3</th>\n",
       "      <td>110</td>\n",
       "      <td>00:01:50</td>\n",
       "      <td>L</td>\n",
       "      <td>1</td>\n",
       "      <td>1</td>\n",
       "    </tr>\n",
       "    <tr>\n",
       "      <th>4</th>\n",
       "      <td>126</td>\n",
       "      <td>00:02:06</td>\n",
       "      <td>B</td>\n",
       "      <td>1</td>\n",
       "      <td>1</td>\n",
       "    </tr>\n",
       "    <tr>\n",
       "      <th>5</th>\n",
       "      <td>132</td>\n",
       "      <td>00:02:12</td>\n",
       "      <td>L</td>\n",
       "      <td>1</td>\n",
       "      <td>1</td>\n",
       "    </tr>\n",
       "    <tr>\n",
       "      <th>6</th>\n",
       "      <td>140</td>\n",
       "      <td>00:02:20</td>\n",
       "      <td>I</td>\n",
       "      <td>1</td>\n",
       "      <td>1</td>\n",
       "    </tr>\n",
       "    <tr>\n",
       "      <th>7</th>\n",
       "      <td>140</td>\n",
       "      <td>00:02:20</td>\n",
       "      <td>S</td>\n",
       "      <td>1</td>\n",
       "      <td>1</td>\n",
       "    </tr>\n",
       "    <tr>\n",
       "      <th>8</th>\n",
       "      <td>146</td>\n",
       "      <td>00:02:26</td>\n",
       "      <td>L</td>\n",
       "      <td>1</td>\n",
       "      <td>1</td>\n",
       "    </tr>\n",
       "    <tr>\n",
       "      <th>9</th>\n",
       "      <td>156</td>\n",
       "      <td>00:02:36</td>\n",
       "      <td>S</td>\n",
       "      <td>1</td>\n",
       "      <td>1</td>\n",
       "    </tr>\n",
       "  </tbody>\n",
       "</table>\n",
       "</div>"
      ],
      "text/plain": [
       "   time_s time_min_sec labels  subject  trick\n",
       "0       8     00:00:08     Se        1      1\n",
       "1      10     00:00:10      B        1      1\n",
       "2      30     00:00:30     In        1      1\n",
       "3     110     00:01:50      L        1      1\n",
       "4     126     00:02:06      B        1      1\n",
       "5     132     00:02:12      L        1      1\n",
       "6     140     00:02:20      I        1      1\n",
       "7     140     00:02:20      S        1      1\n",
       "8     146     00:02:26      L        1      1\n",
       "9     156     00:02:36      S        1      1"
      ]
     },
     "execution_count": 32,
     "metadata": {},
     "output_type": "execute_result"
    }
   ],
   "source": [
    "## Como en ocasiones hay más de una acción en un mismo tiempo, hacer que en la columna label no haya comas\n",
    "## En el caso que coocurran acciones, \"multiplicar la linea\", una para cada evento\n",
    "## Como consecuencia, el len aumentará respecto df_\n",
    "\n",
    "items=[]\n",
    "\n",
    "for i in range(len(df_)):\n",
    "    #print(i)\n",
    "    n_actions = len(df_.labels.iloc[i].split(','))\n",
    "    if n_actions==1:\n",
    "        items.append([df_.time_s.iloc[i], df_.time_min_sec.iloc[i], \n",
    "                      df_.labels.iloc[i], df_.subject.iloc[i],  df_.trick.iloc[i]  ])\n",
    "    elif n_actions>1:\n",
    "        actions = df_.labels.iloc[i].split(',')\n",
    "        for a in range(0, n_actions):\n",
    "            items.append([df_.time_s.iloc[i], df_.time_min_sec.iloc[i], \n",
    "                          actions[a], df_.subject.iloc[i],  df_.trick.iloc[i]  ])\n",
    "            \n",
    "            \n",
    "df_actions = pd.DataFrame(items)    \n",
    "df_actions.columns = ['time_s', 'time_min_sec', 'labels', 'subject', 'trick']\n",
    "print(len(df_actions))\n",
    "df_actions.head(10)"
   ]
  },
  {
   "cell_type": "code",
   "execution_count": 33,
   "metadata": {},
   "outputs": [
    {
     "data": {
      "text/plain": [
       "array(['Se', 'B', 'In', 'L', 'I', ' S', 'S', 'A', 'PERD.VIS', 'AA', 'R',\n",
       "       'P', 'C', 'D', 'Si', ' R', 'M', 'F', ' F', 'A+', 'O', ' A',\n",
       "       'PERD. VIS', 'A0', ' A+', 'P ', ' P', 'iN', ' L ', ' Si', 'PV',\n",
       "       'N', 'a', 'perd.vis', ' C', ' D', ' B', ' Se', ' VP', 'VP', ' I',\n",
       "       ' PV', ' L', 'H', 'DD', ' AA', 'T', ' a', ' N', ' O', 'AA+', 'se',\n",
       "       'F ', 'S ', 'IN', 'PV ', 'SS', 'F  ', 'L ', ' I ', 'M  ', ' S   ',\n",
       "       'N  ', 'sI', 'a?', 'N ', ' F ', ' In', 'VP ', ' L   ', 'S  ',\n",
       "       ' A (ANTES)', 'TONTO BOCA P', 'L  ', ' A0', ' S ', 'C ', 'X',\n",
       "       ' C ', '  L', ' R ', ' A ', 'F?', 'aa'], dtype=object)"
      ]
     },
     "execution_count": 33,
     "metadata": {},
     "output_type": "execute_result"
    }
   ],
   "source": [
    "df_actions.labels.unique()"
   ]
  },
  {
   "cell_type": "code",
   "execution_count": 34,
   "metadata": {},
   "outputs": [
    {
     "data": {
      "text/plain": [
       "array(['Se', 'B', 'In', 'L', 'I', 'S', 'A', 'PV', 'AA', 'R', 'P', 'C',\n",
       "       'D', 'Si', 'M', 'F', 'A+', 'O', 'A0', 'N', 'a', 'H', 'T', 'AA+',\n",
       "       'TONTO BOCA P', 'X', 'aa'], dtype=object)"
      ]
     },
     "execution_count": 34,
     "metadata": {},
     "output_type": "execute_result"
    }
   ],
   "source": [
    "### Correccion de fallos en las labels al entrar los datos\n",
    "df_actions['labels'] = df_actions['labels'].replace([' Se'], ['Se'])\n",
    "df_actions['labels'] = df_actions['labels'].replace(['se'], ['Se'])\n",
    "df_actions['labels'] = df_actions['labels'].replace([' A'], ['A'])\n",
    "df_actions['labels'] = df_actions['labels'].replace([' A '], ['A'])\n",
    "df_actions['labels'] = df_actions['labels'].replace([' B'], ['B'])\n",
    "df_actions['labels'] = df_actions['labels'].replace([' I'], ['I'])\n",
    "df_actions['labels'] = df_actions['labels'].replace([' L'], ['L'])\n",
    "df_actions['labels'] = df_actions['labels'].replace(['  L'], ['L'])\n",
    "df_actions['labels'] = df_actions['labels'].replace(['L  '], ['L'])\n",
    "df_actions['labels'] = df_actions['labels'].replace([' L '], ['L'])\n",
    "df_actions['labels'] = df_actions['labels'].replace(['L '], ['L'])\n",
    "df_actions['labels'] = df_actions['labels'].replace(['N '], ['N'])\n",
    "df_actions['labels'] = df_actions['labels'].replace(['N  '], ['N'])\n",
    "df_actions['labels'] = df_actions['labels'].replace([' N'], ['N'])\n",
    "df_actions['labels'] = df_actions['labels'].replace([' S'], ['S'])\n",
    "df_actions['labels'] = df_actions['labels'].replace([' S  '], ['S'])\n",
    "df_actions['labels'] = df_actions['labels'].replace([' S   '], ['S'])\n",
    "df_actions['labels'] = df_actions['labels'].replace(['S '], ['S'])\n",
    "df_actions['labels'] = df_actions['labels'].replace([' S '], ['S'])\n",
    "df_actions['labels'] = df_actions['labels'].replace(['S  '], ['S'])\n",
    "df_actions['labels'] = df_actions['labels'].replace(['R '], ['R'])\n",
    "df_actions['labels'] = df_actions['labels'].replace([' R'], ['R'])\n",
    "df_actions['labels'] = df_actions['labels'].replace([' R '], ['R'])\n",
    "df_actions['labels'] = df_actions['labels'].replace(['C '], ['C'])\n",
    "df_actions['labels'] = df_actions['labels'].replace([' C '], ['C'])\n",
    "df_actions['labels'] = df_actions['labels'].replace([' C'], ['C'])\n",
    "df_actions['labels'] = df_actions['labels'].replace(['F '], ['F'])\n",
    "df_actions['labels'] = df_actions['labels'].replace([' F '], ['F'])\n",
    "df_actions['labels'] = df_actions['labels'].replace(['F  '], ['F'])\n",
    "df_actions['labels'] = df_actions['labels'].replace([' F'], ['F'])\n",
    "df_actions['labels'] = df_actions['labels'].replace(['M '], ['M'])\n",
    "df_actions['labels'] = df_actions['labels'].replace(['M  '], ['M'])\n",
    "df_actions['labels'] = df_actions['labels'].replace(['a '], ['a'])\n",
    "df_actions['labels'] = df_actions['labels'].replace([' a'], ['a'])\n",
    "df_actions['labels'] = df_actions['labels'].replace([' AA'], ['AA'])\n",
    "df_actions['labels'] = df_actions['labels'].replace([' A0'], ['A0'])\n",
    "df_actions['labels'] = df_actions['labels'].replace(['IN'], ['In'])\n",
    "df_actions['labels'] = df_actions['labels'].replace([' In'], ['In'])\n",
    "df_actions['labels'] = df_actions['labels'].replace(['iN'], ['In'])\n",
    "df_actions['labels'] = df_actions['labels'].replace([' D'], ['D'])\n",
    "df_actions['labels'] = df_actions['labels'].replace([' O'], ['O'])\n",
    "df_actions['labels'] = df_actions['labels'].replace([' A+'], ['A+'])\n",
    "df_actions['labels'] = df_actions['labels'].replace([' L   '], ['L'])\n",
    "df_actions['labels'] = df_actions['labels'].replace([' I '], ['I'])\n",
    "df_actions['labels'] = df_actions['labels'].replace(['PERD.VIS'], ['PV'])\n",
    "df_actions['labels'] = df_actions['labels'].replace(['PERD. VIS'], ['PV'])\n",
    "df_actions['labels'] = df_actions['labels'].replace(['perd.vis'], ['PV'])\n",
    "df_actions['labels'] = df_actions['labels'].replace(['VP'], ['PV'])\n",
    "df_actions['labels'] = df_actions['labels'].replace([' VP'], ['PV'])\n",
    "df_actions['labels'] = df_actions['labels'].replace(['VP '], ['PV'])\n",
    "df_actions['labels'] = df_actions['labels'].replace(['PV '], ['PV'])\n",
    "df_actions['labels'] = df_actions['labels'].replace([' PV'], ['PV'])\n",
    "df_actions['labels'] = df_actions['labels'].replace(['P '], ['P'])\n",
    "df_actions['labels'] = df_actions['labels'].replace([' P'], ['P'])\n",
    "df_actions['labels'] = df_actions['labels'].replace([' Si'], ['Si'])\n",
    "df_actions['labels'] = df_actions['labels'].replace(['sI'], ['Si'])\n",
    "df_actions['labels'] = df_actions['labels'].replace(['SS'], ['S'])\n",
    "df_actions['labels'] = df_actions['labels'].replace(['DD'], ['D'])\n",
    "df_actions['labels'] = df_actions['labels'].replace(['a?'], ['a'])\n",
    "df_actions['labels'] = df_actions['labels'].replace(['F?'], ['F'])\n",
    "df_actions['labels'] = df_actions['labels'].replace([' A (ANTES)'], ['A'])\n",
    "\n",
    "\n",
    "\n",
    "df_actions.labels.unique()"
   ]
  },
  {
   "cell_type": "markdown",
   "metadata": {},
   "source": [
    "#### Until clarification, I am excluding P, PV, VP, X, aa, H, T, AA+, TONTO BOCA P"
   ]
  },
  {
   "cell_type": "code",
   "execution_count": 35,
   "metadata": {},
   "outputs": [
    {
     "data": {
      "text/plain": [
       "array(['Se', 'B', 'In', 'L', 'I', 'S', 'A', 'AA', 'R', 'C', 'D', 'Si',\n",
       "       'M', 'F', 'A+', 'O', 'A0', 'N', 'a'], dtype=object)"
      ]
     },
     "execution_count": 35,
     "metadata": {},
     "output_type": "execute_result"
    }
   ],
   "source": [
    "df = df_actions.loc[(df_actions['labels']=='Se') | (df_actions['labels']=='B') | (df_actions['labels']=='In') | \n",
    "              (df_actions['labels']=='L') | (df_actions['labels']=='I') | (df_actions['labels']=='S') | \n",
    "              (df_actions['labels']=='A') | (df_actions['labels']=='AA') | (df_actions['labels']=='R') |\n",
    "              (df_actions['labels']=='C') | (df_actions['labels']=='D') | (df_actions['labels']=='Si') |\n",
    "              (df_actions['labels']=='M') | (df_actions['labels']=='F') | (df_actions['labels']=='A+') | \n",
    "              (df_actions['labels']=='O') | (df_actions['labels']=='A0') | (df_actions['labels']=='N') |\n",
    "              (df_actions['labels']=='a')]\n",
    "\n",
    "df.labels.unique()"
   ]
  },
  {
   "cell_type": "code",
   "execution_count": 36,
   "metadata": {},
   "outputs": [
    {
     "name": "stdout",
     "output_type": "stream",
     "text": [
      "14015\n"
     ]
    },
    {
     "data": {
      "text/html": [
       "<div>\n",
       "<style scoped>\n",
       "    .dataframe tbody tr th:only-of-type {\n",
       "        vertical-align: middle;\n",
       "    }\n",
       "\n",
       "    .dataframe tbody tr th {\n",
       "        vertical-align: top;\n",
       "    }\n",
       "\n",
       "    .dataframe thead th {\n",
       "        text-align: right;\n",
       "    }\n",
       "</style>\n",
       "<table border=\"1\" class=\"dataframe\">\n",
       "  <thead>\n",
       "    <tr style=\"text-align: right;\">\n",
       "      <th></th>\n",
       "      <th>time_s</th>\n",
       "      <th>time_min_sec</th>\n",
       "      <th>labels</th>\n",
       "      <th>subject</th>\n",
       "      <th>trick</th>\n",
       "    </tr>\n",
       "  </thead>\n",
       "  <tbody>\n",
       "    <tr>\n",
       "      <th>0</th>\n",
       "      <td>8</td>\n",
       "      <td>00:00:08</td>\n",
       "      <td>Se</td>\n",
       "      <td>1</td>\n",
       "      <td>1</td>\n",
       "    </tr>\n",
       "    <tr>\n",
       "      <th>1</th>\n",
       "      <td>10</td>\n",
       "      <td>00:00:10</td>\n",
       "      <td>B</td>\n",
       "      <td>1</td>\n",
       "      <td>1</td>\n",
       "    </tr>\n",
       "    <tr>\n",
       "      <th>2</th>\n",
       "      <td>30</td>\n",
       "      <td>00:00:30</td>\n",
       "      <td>In</td>\n",
       "      <td>1</td>\n",
       "      <td>1</td>\n",
       "    </tr>\n",
       "    <tr>\n",
       "      <th>3</th>\n",
       "      <td>110</td>\n",
       "      <td>00:01:50</td>\n",
       "      <td>L</td>\n",
       "      <td>1</td>\n",
       "      <td>1</td>\n",
       "    </tr>\n",
       "    <tr>\n",
       "      <th>4</th>\n",
       "      <td>126</td>\n",
       "      <td>00:02:06</td>\n",
       "      <td>B</td>\n",
       "      <td>1</td>\n",
       "      <td>1</td>\n",
       "    </tr>\n",
       "    <tr>\n",
       "      <th>5</th>\n",
       "      <td>132</td>\n",
       "      <td>00:02:12</td>\n",
       "      <td>L</td>\n",
       "      <td>1</td>\n",
       "      <td>1</td>\n",
       "    </tr>\n",
       "    <tr>\n",
       "      <th>6</th>\n",
       "      <td>140</td>\n",
       "      <td>00:02:20</td>\n",
       "      <td>I</td>\n",
       "      <td>1</td>\n",
       "      <td>1</td>\n",
       "    </tr>\n",
       "    <tr>\n",
       "      <th>7</th>\n",
       "      <td>140</td>\n",
       "      <td>00:02:20</td>\n",
       "      <td>S</td>\n",
       "      <td>1</td>\n",
       "      <td>1</td>\n",
       "    </tr>\n",
       "    <tr>\n",
       "      <th>8</th>\n",
       "      <td>146</td>\n",
       "      <td>00:02:26</td>\n",
       "      <td>L</td>\n",
       "      <td>1</td>\n",
       "      <td>1</td>\n",
       "    </tr>\n",
       "    <tr>\n",
       "      <th>9</th>\n",
       "      <td>156</td>\n",
       "      <td>00:02:36</td>\n",
       "      <td>S</td>\n",
       "      <td>1</td>\n",
       "      <td>1</td>\n",
       "    </tr>\n",
       "  </tbody>\n",
       "</table>\n",
       "</div>"
      ],
      "text/plain": [
       "   time_s time_min_sec labels  subject  trick\n",
       "0       8     00:00:08     Se        1      1\n",
       "1      10     00:00:10      B        1      1\n",
       "2      30     00:00:30     In        1      1\n",
       "3     110     00:01:50      L        1      1\n",
       "4     126     00:02:06      B        1      1\n",
       "5     132     00:02:12      L        1      1\n",
       "6     140     00:02:20      I        1      1\n",
       "7     140     00:02:20      S        1      1\n",
       "8     146     00:02:26      L        1      1\n",
       "9     156     00:02:36      S        1      1"
      ]
     },
     "execution_count": 36,
     "metadata": {},
     "output_type": "execute_result"
    }
   ],
   "source": [
    "print(len(df))\n",
    "df.head(10)"
   ]
  },
  {
   "cell_type": "code",
   "execution_count": 4,
   "metadata": {},
   "outputs": [],
   "source": [
    "### poner a cada acción una relación con los fenómenos del mago según el intervalo en el que ocurre\n",
    "### poner una duración de la acción? de acuerdo al diccionario\n",
    "\n",
    "## Para Sincronizar las anotaciones de Jordi y Luis con las de las estudiantes de master, hay que restar a los tiempos de Jordi \n",
    "## y Luis 10:31 (10 minutos, 31 segundos) (sincronización de ambos videos)"
   ]
  },
  {
   "cell_type": "code",
   "execution_count": 26,
   "metadata": {},
   "outputs": [],
   "source": [
    "df_gea=pd.read_excel(os.getcwd() + '\\\\EVENTOS_GEA.xlsx', sheet_name='Hoja2' )"
   ]
  },
  {
   "cell_type": "code",
   "execution_count": 27,
   "metadata": {},
   "outputs": [],
   "source": [
    "times_s = [df_gea.tiempo.iloc[i].minute*60 + df_gea.tiempo.iloc[i].second for i in range(len(df_gea))]\n",
    "df_gea['times_s'] = times_s"
   ]
  },
  {
   "cell_type": "code",
   "execution_count": 28,
   "metadata": {},
   "outputs": [
    {
     "data": {
      "text/html": [
       "<div>\n",
       "<style scoped>\n",
       "    .dataframe tbody tr th:only-of-type {\n",
       "        vertical-align: middle;\n",
       "    }\n",
       "\n",
       "    .dataframe tbody tr th {\n",
       "        vertical-align: top;\n",
       "    }\n",
       "\n",
       "    .dataframe thead th {\n",
       "        text-align: right;\n",
       "    }\n",
       "</style>\n",
       "<table border=\"1\" class=\"dataframe\">\n",
       "  <thead>\n",
       "    <tr style=\"text-align: right;\">\n",
       "      <th></th>\n",
       "      <th>tiempo</th>\n",
       "      <th>evento</th>\n",
       "      <th>decripcion</th>\n",
       "      <th>times_s</th>\n",
       "    </tr>\n",
       "  </thead>\n",
       "  <tbody>\n",
       "    <tr>\n",
       "      <th>0</th>\n",
       "      <td>00:00:27</td>\n",
       "      <td>gag</td>\n",
       "      <td>broma sobre su dominio del catalán</td>\n",
       "      <td>27</td>\n",
       "    </tr>\n",
       "    <tr>\n",
       "      <th>1</th>\n",
       "      <td>00:00:34</td>\n",
       "      <td>gag</td>\n",
       "      <td>\"Por deferencia\"</td>\n",
       "      <td>34</td>\n",
       "    </tr>\n",
       "    <tr>\n",
       "      <th>2</th>\n",
       "      <td>00:01:05</td>\n",
       "      <td>gag</td>\n",
       "      <td>\"Que haya público\"</td>\n",
       "      <td>65</td>\n",
       "    </tr>\n",
       "    <tr>\n",
       "      <th>3</th>\n",
       "      <td>00:01:19</td>\n",
       "      <td>gag</td>\n",
       "      <td>\"El público de schroedinger\"</td>\n",
       "      <td>79</td>\n",
       "    </tr>\n",
       "    <tr>\n",
       "      <th>4</th>\n",
       "      <td>00:01:31</td>\n",
       "      <td>gag</td>\n",
       "      <td>El juego es muy bonito</td>\n",
       "      <td>91</td>\n",
       "    </tr>\n",
       "    <tr>\n",
       "      <th>5</th>\n",
       "      <td>00:01:59</td>\n",
       "      <td>gag</td>\n",
       "      <td>No hay humor, la gente se cambia de sitio</td>\n",
       "      <td>119</td>\n",
       "    </tr>\n",
       "    <tr>\n",
       "      <th>6</th>\n",
       "      <td>00:02:22</td>\n",
       "      <td>gag</td>\n",
       "      <td>Broma: \"Ah! No se puede cambiar\"</td>\n",
       "      <td>142</td>\n",
       "    </tr>\n",
       "    <tr>\n",
       "      <th>7</th>\n",
       "      <td>00:02:30</td>\n",
       "      <td>gag</td>\n",
       "      <td>\"Como veis soy una persona…\"</td>\n",
       "      <td>150</td>\n",
       "    </tr>\n",
       "    <tr>\n",
       "      <th>8</th>\n",
       "      <td>00:02:48</td>\n",
       "      <td>gag</td>\n",
       "      <td>\"Preocupado por el ritmo…\"</td>\n",
       "      <td>168</td>\n",
       "    </tr>\n",
       "    <tr>\n",
       "      <th>9</th>\n",
       "      <td>00:03:13</td>\n",
       "      <td>gag</td>\n",
       "      <td>\"Risas del público\"</td>\n",
       "      <td>193</td>\n",
       "    </tr>\n",
       "    <tr>\n",
       "      <th>10</th>\n",
       "      <td>00:03:20</td>\n",
       "      <td>gag</td>\n",
       "      <td>\"Tornillos\"</td>\n",
       "      <td>200</td>\n",
       "    </tr>\n",
       "    <tr>\n",
       "      <th>11</th>\n",
       "      <td>00:04:32</td>\n",
       "      <td>gag</td>\n",
       "      <td>\"Austeridad facial\"</td>\n",
       "      <td>272</td>\n",
       "    </tr>\n",
       "    <tr>\n",
       "      <th>12</th>\n",
       "      <td>00:04:36</td>\n",
       "      <td>gag</td>\n",
       "      <td>\"aplaudido rabiosamente\"</td>\n",
       "      <td>276</td>\n",
       "    </tr>\n",
       "    <tr>\n",
       "      <th>13</th>\n",
       "      <td>00:05:03</td>\n",
       "      <td>gag</td>\n",
       "      <td>\"pues fuera…\"</td>\n",
       "      <td>303</td>\n",
       "    </tr>\n",
       "    <tr>\n",
       "      <th>14</th>\n",
       "      <td>00:06:32</td>\n",
       "      <td>gag</td>\n",
       "      <td>\"Yo sé que habéis venido por la ciencia</td>\n",
       "      <td>392</td>\n",
       "    </tr>\n",
       "    <tr>\n",
       "      <th>15</th>\n",
       "      <td>00:06:42</td>\n",
       "      <td>gag</td>\n",
       "      <td>Se cruza con las manos abiertas</td>\n",
       "      <td>402</td>\n",
       "    </tr>\n",
       "    <tr>\n",
       "      <th>16</th>\n",
       "      <td>00:07:19</td>\n",
       "      <td>gag</td>\n",
       "      <td>\"dos oportunidades…\"</td>\n",
       "      <td>439</td>\n",
       "    </tr>\n",
       "    <tr>\n",
       "      <th>17</th>\n",
       "      <td>00:07:26</td>\n",
       "      <td>gag</td>\n",
       "      <td>\"me entra una emoción…\"</td>\n",
       "      <td>446</td>\n",
       "    </tr>\n",
       "    <tr>\n",
       "      <th>18</th>\n",
       "      <td>00:07:45</td>\n",
       "      <td>gag</td>\n",
       "      <td>\"sale dinerito…\"</td>\n",
       "      <td>465</td>\n",
       "    </tr>\n",
       "    <tr>\n",
       "      <th>19</th>\n",
       "      <td>00:07:59</td>\n",
       "      <td>gag</td>\n",
       "      <td>\"os quedáis vosotros tres…\"</td>\n",
       "      <td>479</td>\n",
       "    </tr>\n",
       "  </tbody>\n",
       "</table>\n",
       "</div>"
      ],
      "text/plain": [
       "     tiempo evento                                 decripcion  times_s\n",
       "0  00:00:27    gag         broma sobre su dominio del catalán       27\n",
       "1  00:00:34    gag                           \"Por deferencia\"       34\n",
       "2  00:01:05    gag                         \"Que haya público\"       65\n",
       "3  00:01:19    gag               \"El público de schroedinger\"       79\n",
       "4  00:01:31    gag                     El juego es muy bonito       91\n",
       "5  00:01:59    gag  No hay humor, la gente se cambia de sitio      119\n",
       "6  00:02:22    gag           Broma: \"Ah! No se puede cambiar\"      142\n",
       "7  00:02:30    gag               \"Como veis soy una persona…\"      150\n",
       "8  00:02:48    gag                 \"Preocupado por el ritmo…\"      168\n",
       "9  00:03:13    gag                        \"Risas del público\"      193\n",
       "10 00:03:20    gag                                \"Tornillos\"      200\n",
       "11 00:04:32    gag                        \"Austeridad facial\"      272\n",
       "12 00:04:36    gag                   \"aplaudido rabiosamente\"      276\n",
       "13 00:05:03    gag                              \"pues fuera…\"      303\n",
       "14 00:06:32    gag    \"Yo sé que habéis venido por la ciencia      392\n",
       "15 00:06:42    gag            Se cruza con las manos abiertas      402\n",
       "16 00:07:19    gag                       \"dos oportunidades…\"      439\n",
       "17 00:07:26    gag                    \"me entra una emoción…\"      446\n",
       "18 00:07:45    gag                           \"sale dinerito…\"      465\n",
       "19 00:07:59    gag                \"os quedáis vosotros tres…\"      479"
      ]
     },
     "execution_count": 28,
     "metadata": {},
     "output_type": "execute_result"
    }
   ],
   "source": [
    "### cambiar tiempo y tiempo_s por los corregidos, en los que se restan 10 minutos, 31 segundos. De esta manera, \n",
    "### los dos dataframes están sincronizados\n",
    "\n",
    "new_times=[]\n",
    "times_s_new=[]\n",
    "\n",
    "for i in range(len(df_gea)):\n",
    "    #print(i)\n",
    "    h = df_gea.tiempo.iloc[i]\n",
    "    h_t = str(h.hour) + ':' + str(h.minute) + ':' + str(h.second) \n",
    "    substracting = '00:10:31'\n",
    "    new_time = datetime.strptime(h_t, \"%H:%M:%S\") - datetime.strptime(substracting, \"%H:%M:%S\")\n",
    "    new_times.append(new_time)\n",
    "    ##\n",
    "    times_s_new.append(df_gea.times_s.loc[i] - (60*10 + 31) ) \n",
    "\n",
    "    \n",
    "df_gea['tiempo'] = new_times \n",
    "df_gea['times_s'] = times_s_new \n",
    "\n",
    "df_gea.sort_values(by=['times_s'])\n",
    "\n",
    "df_gea.head(10)"
   ]
  },
  {
   "cell_type": "code",
   "execution_count": 65,
   "metadata": {},
   "outputs": [],
   "source": [
    "window = 5 # max reaction time expected to have casual relation? "
   ]
  },
  {
   "cell_type": "code",
   "execution_count": 90,
   "metadata": {},
   "outputs": [
    {
     "name": "stderr",
     "output_type": "stream",
     "text": [
      "C:\\Users\\David\\Anaconda3\\envs\\python3\\lib\\site-packages\\ipykernel_launcher.py:19: SettingWithCopyWarning: \n",
      "A value is trying to be set on a copy of a slice from a DataFrame.\n",
      "Try using .loc[row_indexer,col_indexer] = value instead\n",
      "\n",
      "See the caveats in the documentation: http://pandas.pydata.org/pandas-docs/stable/indexing.html#indexing-view-versus-copy\n"
     ]
    }
   ],
   "source": [
    "event_associated=[]\n",
    "\n",
    "first_event_time=df_gea['times_s'].iloc[0]\n",
    "\n",
    "for i in range(len(df)): #len(df)\n",
    "    time_label = df.time_s.iloc[i]\n",
    "    if time_label<first_event_time:\n",
    "        event_associated.append('undetermined')\n",
    "    else:\n",
    "        time_previous_event = df_gea.loc[df_gea['times_s'] < time_label ].iloc[-1].times_s\n",
    "        previous_event = df_gea.loc[df_gea['times_s'] < time_label ].iloc[-1].evento\n",
    "        if (time_previous_event + window) >= time_label:\n",
    "            event_associated.append(previous_event)\n",
    "        else:\n",
    "            event_associated.append('undetermined')\n",
    "            \n",
    "            \n",
    "            \n",
    "df['event_associated']=event_associated    \n",
    "    "
   ]
  },
  {
   "cell_type": "code",
   "execution_count": 67,
   "metadata": {},
   "outputs": [
    {
     "data": {
      "text/html": [
       "<div>\n",
       "<style scoped>\n",
       "    .dataframe tbody tr th:only-of-type {\n",
       "        vertical-align: middle;\n",
       "    }\n",
       "\n",
       "    .dataframe tbody tr th {\n",
       "        vertical-align: top;\n",
       "    }\n",
       "\n",
       "    .dataframe thead th {\n",
       "        text-align: right;\n",
       "    }\n",
       "</style>\n",
       "<table border=\"1\" class=\"dataframe\">\n",
       "  <thead>\n",
       "    <tr style=\"text-align: right;\">\n",
       "      <th></th>\n",
       "      <th>time_s</th>\n",
       "      <th>time_min_sec</th>\n",
       "      <th>labels</th>\n",
       "      <th>subject</th>\n",
       "      <th>trick</th>\n",
       "      <th>event_associated</th>\n",
       "    </tr>\n",
       "  </thead>\n",
       "  <tbody>\n",
       "    <tr>\n",
       "      <th>0</th>\n",
       "      <td>8</td>\n",
       "      <td>00:00:08</td>\n",
       "      <td>Se</td>\n",
       "      <td>1</td>\n",
       "      <td>1</td>\n",
       "      <td>undetermined</td>\n",
       "    </tr>\n",
       "    <tr>\n",
       "      <th>1</th>\n",
       "      <td>10</td>\n",
       "      <td>00:00:10</td>\n",
       "      <td>B</td>\n",
       "      <td>1</td>\n",
       "      <td>1</td>\n",
       "      <td>undetermined</td>\n",
       "    </tr>\n",
       "    <tr>\n",
       "      <th>2</th>\n",
       "      <td>30</td>\n",
       "      <td>00:00:30</td>\n",
       "      <td>In</td>\n",
       "      <td>1</td>\n",
       "      <td>1</td>\n",
       "      <td>gag</td>\n",
       "    </tr>\n",
       "    <tr>\n",
       "      <th>3</th>\n",
       "      <td>110</td>\n",
       "      <td>00:01:50</td>\n",
       "      <td>L</td>\n",
       "      <td>1</td>\n",
       "      <td>1</td>\n",
       "      <td>undetermined</td>\n",
       "    </tr>\n",
       "    <tr>\n",
       "      <th>4</th>\n",
       "      <td>126</td>\n",
       "      <td>00:02:06</td>\n",
       "      <td>B</td>\n",
       "      <td>1</td>\n",
       "      <td>1</td>\n",
       "      <td>undetermined</td>\n",
       "    </tr>\n",
       "    <tr>\n",
       "      <th>5</th>\n",
       "      <td>132</td>\n",
       "      <td>00:02:12</td>\n",
       "      <td>L</td>\n",
       "      <td>1</td>\n",
       "      <td>1</td>\n",
       "      <td>undetermined</td>\n",
       "    </tr>\n",
       "    <tr>\n",
       "      <th>6</th>\n",
       "      <td>140</td>\n",
       "      <td>00:02:20</td>\n",
       "      <td>I</td>\n",
       "      <td>1</td>\n",
       "      <td>1</td>\n",
       "      <td>undetermined</td>\n",
       "    </tr>\n",
       "    <tr>\n",
       "      <th>7</th>\n",
       "      <td>140</td>\n",
       "      <td>00:02:20</td>\n",
       "      <td>S</td>\n",
       "      <td>1</td>\n",
       "      <td>1</td>\n",
       "      <td>undetermined</td>\n",
       "    </tr>\n",
       "    <tr>\n",
       "      <th>8</th>\n",
       "      <td>146</td>\n",
       "      <td>00:02:26</td>\n",
       "      <td>L</td>\n",
       "      <td>1</td>\n",
       "      <td>1</td>\n",
       "      <td>undetermined</td>\n",
       "    </tr>\n",
       "    <tr>\n",
       "      <th>9</th>\n",
       "      <td>156</td>\n",
       "      <td>00:02:36</td>\n",
       "      <td>S</td>\n",
       "      <td>1</td>\n",
       "      <td>1</td>\n",
       "      <td>undetermined</td>\n",
       "    </tr>\n",
       "  </tbody>\n",
       "</table>\n",
       "</div>"
      ],
      "text/plain": [
       "   time_s time_min_sec labels  subject  trick event_associated\n",
       "0       8     00:00:08     Se        1      1     undetermined\n",
       "1      10     00:00:10      B        1      1     undetermined\n",
       "2      30     00:00:30     In        1      1              gag\n",
       "3     110     00:01:50      L        1      1     undetermined\n",
       "4     126     00:02:06      B        1      1     undetermined\n",
       "5     132     00:02:12      L        1      1     undetermined\n",
       "6     140     00:02:20      I        1      1     undetermined\n",
       "7     140     00:02:20      S        1      1     undetermined\n",
       "8     146     00:02:26      L        1      1     undetermined\n",
       "9     156     00:02:36      S        1      1     undetermined"
      ]
     },
     "execution_count": 67,
     "metadata": {},
     "output_type": "execute_result"
    }
   ],
   "source": [
    "df.head(10)"
   ]
  },
  {
   "cell_type": "code",
   "execution_count": 68,
   "metadata": {},
   "outputs": [
    {
     "data": {
      "text/plain": [
       "array(['undetermined', 'gag', 'Miniclimax', 'Climax final', 'inicio'],\n",
       "      dtype=object)"
      ]
     },
     "execution_count": 68,
     "metadata": {},
     "output_type": "execute_result"
    }
   ],
   "source": [
    "df.event_associated.unique()"
   ]
  },
  {
   "cell_type": "code",
   "execution_count": 69,
   "metadata": {},
   "outputs": [
    {
     "data": {
      "text/plain": [
       "139"
      ]
     },
     "execution_count": 69,
     "metadata": {},
     "output_type": "execute_result"
    }
   ],
   "source": [
    "df_inicio=df.loc[df['event_associated']=='inicio']\n",
    "df_gags=df.loc[df['event_associated']=='gag']\n",
    "df_climax=df.loc[(df['event_associated']=='Miniclimax') | (df['event_associated']=='Climax final') ]\n",
    "\n",
    "print(len(df_gags))\n",
    "print(len(df_inicio))\n",
    "print(len(df_climax))"
   ]
  },
  {
   "cell_type": "code",
   "execution_count": 70,
   "metadata": {},
   "outputs": [
    {
     "data": {
      "text/plain": [
       "24"
      ]
     },
     "execution_count": 70,
     "metadata": {},
     "output_type": "execute_result"
    }
   ],
   "source": []
  },
  {
   "cell_type": "code",
   "execution_count": 72,
   "metadata": {},
   "outputs": [
    {
     "data": {
      "text/plain": [
       "2865"
      ]
     },
     "execution_count": 72,
     "metadata": {},
     "output_type": "execute_result"
    }
   ],
   "source": []
  },
  {
   "cell_type": "code",
   "execution_count": 74,
   "metadata": {},
   "outputs": [
    {
     "data": {
      "text/plain": [
       "583"
      ]
     },
     "execution_count": 74,
     "metadata": {},
     "output_type": "execute_result"
    }
   ],
   "source": [
    "len(df_climax.loc[df_climax['labels']=='A'])"
   ]
  },
  {
   "cell_type": "code",
   "execution_count": 84,
   "metadata": {},
   "outputs": [
    {
     "data": {
      "text/plain": [
       "array(['S', 'A', 'I', 'D', 'B', 'R', 'C', 'In', 'F', 'A0', 'L', 'N', 'Si',\n",
       "       'Se', 'M', 'a', 'AA', 'O', 'A+'], dtype=object)"
      ]
     },
     "execution_count": 84,
     "metadata": {},
     "output_type": "execute_result"
    }
   ],
   "source": [
    "df_climax.labels.unique()\n"
   ]
  },
  {
   "cell_type": "code",
   "execution_count": 81,
   "metadata": {},
   "outputs": [
    {
     "data": {
      "text/plain": [
       "<matplotlib.axes._subplots.AxesSubplot at 0x1ad56fe7b38>"
      ]
     },
     "execution_count": 81,
     "metadata": {},
     "output_type": "execute_result"
    },
    {
     "data": {
      "image/png": "[encoded data removed]",
      "text/plain": [
       "<Figure size 432x288 with 1 Axes>"
      ]
     },
     "metadata": {
      "needs_background": "light"
     },
     "output_type": "display_data"
    }
   ],
   "source": [
    "\n",
    "gb = df_climax.groupby(['labels']).size().reset_index(name='count')\n",
    "sns.barplot(x='labels', y='count', data=gb)"
   ]
  },
  {
   "cell_type": "code",
   "execution_count": null,
   "metadata": {},
   "outputs": [],
   "source": []
  },
  {
   "cell_type": "code",
   "execution_count": null,
   "metadata": {},
   "outputs": [],
   "source": []
  },
  {
   "cell_type": "code",
   "execution_count": null,
   "metadata": {},
   "outputs": [],
   "source": []
  },
  {
   "cell_type": "code",
   "execution_count": 290,
   "metadata": {},
   "outputs": [],
   "source": [
    "time_label = df.time_s.iloc[20]\n",
    "if len(df_gea.loc[df_gea['times_s'] < time_label ]):\n",
    "    event_associated.append('nd') ##not determinant"
   ]
  },
  {
   "cell_type": "code",
   "execution_count": 300,
   "metadata": {},
   "outputs": [
    {
     "data": {
      "text/plain": [
       "tiempo                                0 days 00:30:05\n",
       "evento                                     Miniclimax\n",
       "decripcion    Deletreo, fallo aparente,  as de bastos\n",
       "times_s                                          1805\n",
       "Name: 150, dtype: object"
      ]
     },
     "execution_count": 300,
     "metadata": {},
     "output_type": "execute_result"
    }
   ],
   "source": [
    "time_label = df.time_s.iloc[10078]\n",
    "time_previous_event = df_gea.loc[df_gea['times_s'] < time_label ].iloc[-1].time_s\n",
    "previous_event = df_gea.loc[df_gea['times_s'] < time_label ].iloc[-1].evento\n",
    "if time_previous_event + window"
   ]
  },
  {
   "cell_type": "code",
   "execution_count": 297,
   "metadata": {},
   "outputs": [
    {
     "data": {
      "text/plain": [
       "1820"
      ]
     },
     "execution_count": 297,
     "metadata": {},
     "output_type": "execute_result"
    }
   ],
   "source": [
    "time_label = df.time_s.iloc[10078]\n",
    "time_label"
   ]
  },
  {
   "cell_type": "code",
   "execution_count": 299,
   "metadata": {},
   "outputs": [
    {
     "data": {
      "text/plain": [
       "1820"
      ]
     },
     "execution_count": 299,
     "metadata": {},
     "output_type": "execute_result"
    }
   ],
   "source": [
    "df.time_s.iloc[10078]"
   ]
  },
  {
   "cell_type": "code",
   "execution_count": null,
   "metadata": {},
   "outputs": [],
   "source": []
  }
 ],
 "metadata": {
  "kernelspec": {
   "display_name": "Python 3",
   "language": "python",
   "name": "python3"
  },
  "language_info": {
   "codemirror_mode": {
    "name": "ipython",
    "version": 3
   },
   "file_extension": ".py",
   "mimetype": "text/x-python",
   "name": "python",
   "nbconvert_exporter": "python",
   "pygments_lexer": "ipython3",
   "version": "3.5.6"
  }
 },
 "nbformat": 4,
 "nbformat_minor": 2
}
