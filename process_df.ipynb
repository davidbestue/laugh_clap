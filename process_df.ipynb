{
 "cells": [
  {
   "cell_type": "code",
   "execution_count": 184,
   "metadata": {},
   "outputs": [],
   "source": [
    "import numpy as np\n",
    "import statsmodels.formula.api as smf\n",
    "import pandas as pd\n",
    "import matplotlib.pyplot as plt\n",
    "import os\n",
    "import seaborn as sns  \n",
    "from linares_plot import *"
   ]
  },
  {
   "cell_type": "code",
   "execution_count": 185,
   "metadata": {},
   "outputs": [
    {
     "name": "stderr",
     "output_type": "stream",
     "text": [
      "C:\\Users\\David\\Anaconda3\\envs\\python3\\lib\\site-packages\\ipykernel_launcher.py:16: SettingWithCopyWarning: \n",
      "A value is trying to be set on a copy of a slice from a DataFrame.\n",
      "Try using .loc[row_indexer,col_indexer] = value instead\n",
      "\n",
      "See the caveats in the documentation: http://pandas.pydata.org/pandas-docs/stable/indexing.html#indexing-view-versus-copy\n",
      "  app.launch_new_instance()\n",
      "C:\\Users\\David\\Anaconda3\\envs\\python3\\lib\\site-packages\\ipykernel_launcher.py:17: SettingWithCopyWarning: \n",
      "A value is trying to be set on a copy of a slice from a DataFrame.\n",
      "Try using .loc[row_indexer,col_indexer] = value instead\n",
      "\n",
      "See the caveats in the documentation: http://pandas.pydata.org/pandas-docs/stable/indexing.html#indexing-view-versus-copy\n"
     ]
    }
   ],
   "source": [
    "##Abrir los datos \n",
    "## Hacer un dataframe para cada subject en cada truco\n",
    "## Concatenar esos dataframe (manteniendo información de truco i subject)\n",
    "## Añadir también una columna con los tiempos (el que estaba y en segundo)\n",
    "\n",
    "frames=[]\n",
    "Trucos=['Truco 1', 'Truco 2', 'Truco 3', 'Truco 4', 'Truco 5', 'Truco 6', 'Truco 7', 'Truco 8' ]\n",
    "\n",
    "for T in Trucos:\n",
    "    Df=pd.read_excel(os.getcwd() + '\\\\ANOTACIONES_.xlsx', sheet_name= T )\n",
    "    subj_idx = Df.columns[2:]\n",
    "    #   \n",
    "    for s in subj_idx:\n",
    "        df_x = Df[['Tiempo_s', 'Tiempo', s]]\n",
    "        df_x.columns=['time_s', 'time_min_sec', 'labels']\n",
    "        df_x['subject']=s\n",
    "        df_x['trick']=int(T.split(' ')[1])\n",
    "        frames.append(df_x)\n",
    "\n",
    "Df = pd.concat(frames, ignore_index=True)"
   ]
  },
  {
   "cell_type": "code",
   "execution_count": 186,
   "metadata": {},
   "outputs": [
    {
     "data": {
      "text/plain": [
       "10302"
      ]
     },
     "execution_count": 186,
     "metadata": {},
     "output_type": "execute_result"
    }
   ],
   "source": [
    "### Quitar los momentos en que no hay eventos! (Nans fuera)\n",
    "df_ = Df.loc[~pd.isna(df['labels'])]\n",
    "df_.head()\n",
    "len(df_) "
   ]
  },
  {
   "cell_type": "code",
   "execution_count": 187,
   "metadata": {},
   "outputs": [
    {
     "name": "stdout",
     "output_type": "stream",
     "text": [
      "14411\n"
     ]
    },
    {
     "data": {
      "text/html": [
       "<div>\n",
       "<style scoped>\n",
       "    .dataframe tbody tr th:only-of-type {\n",
       "        vertical-align: middle;\n",
       "    }\n",
       "\n",
       "    .dataframe tbody tr th {\n",
       "        vertical-align: top;\n",
       "    }\n",
       "\n",
       "    .dataframe thead th {\n",
       "        text-align: right;\n",
       "    }\n",
       "</style>\n",
       "<table border=\"1\" class=\"dataframe\">\n",
       "  <thead>\n",
       "    <tr style=\"text-align: right;\">\n",
       "      <th></th>\n",
       "      <th>time_s</th>\n",
       "      <th>time_min_sec</th>\n",
       "      <th>labels</th>\n",
       "      <th>subject</th>\n",
       "      <th>trick</th>\n",
       "    </tr>\n",
       "  </thead>\n",
       "  <tbody>\n",
       "    <tr>\n",
       "      <th>0</th>\n",
       "      <td>8</td>\n",
       "      <td>00:00:08</td>\n",
       "      <td>Se</td>\n",
       "      <td>1</td>\n",
       "      <td>1</td>\n",
       "    </tr>\n",
       "    <tr>\n",
       "      <th>1</th>\n",
       "      <td>10</td>\n",
       "      <td>00:00:10</td>\n",
       "      <td>B</td>\n",
       "      <td>1</td>\n",
       "      <td>1</td>\n",
       "    </tr>\n",
       "    <tr>\n",
       "      <th>2</th>\n",
       "      <td>30</td>\n",
       "      <td>00:00:30</td>\n",
       "      <td>In</td>\n",
       "      <td>1</td>\n",
       "      <td>1</td>\n",
       "    </tr>\n",
       "    <tr>\n",
       "      <th>3</th>\n",
       "      <td>110</td>\n",
       "      <td>00:01:50</td>\n",
       "      <td>L</td>\n",
       "      <td>1</td>\n",
       "      <td>1</td>\n",
       "    </tr>\n",
       "    <tr>\n",
       "      <th>4</th>\n",
       "      <td>126</td>\n",
       "      <td>00:02:06</td>\n",
       "      <td>B</td>\n",
       "      <td>1</td>\n",
       "      <td>1</td>\n",
       "    </tr>\n",
       "    <tr>\n",
       "      <th>5</th>\n",
       "      <td>132</td>\n",
       "      <td>00:02:12</td>\n",
       "      <td>L</td>\n",
       "      <td>1</td>\n",
       "      <td>1</td>\n",
       "    </tr>\n",
       "    <tr>\n",
       "      <th>6</th>\n",
       "      <td>140</td>\n",
       "      <td>00:02:20</td>\n",
       "      <td>I</td>\n",
       "      <td>1</td>\n",
       "      <td>1</td>\n",
       "    </tr>\n",
       "    <tr>\n",
       "      <th>7</th>\n",
       "      <td>140</td>\n",
       "      <td>00:02:20</td>\n",
       "      <td>S</td>\n",
       "      <td>1</td>\n",
       "      <td>1</td>\n",
       "    </tr>\n",
       "    <tr>\n",
       "      <th>8</th>\n",
       "      <td>146</td>\n",
       "      <td>00:02:26</td>\n",
       "      <td>L</td>\n",
       "      <td>1</td>\n",
       "      <td>1</td>\n",
       "    </tr>\n",
       "    <tr>\n",
       "      <th>9</th>\n",
       "      <td>156</td>\n",
       "      <td>00:02:36</td>\n",
       "      <td>S</td>\n",
       "      <td>1</td>\n",
       "      <td>1</td>\n",
       "    </tr>\n",
       "  </tbody>\n",
       "</table>\n",
       "</div>"
      ],
      "text/plain": [
       "   time_s time_min_sec labels  subject  trick\n",
       "0       8     00:00:08     Se        1      1\n",
       "1      10     00:00:10      B        1      1\n",
       "2      30     00:00:30     In        1      1\n",
       "3     110     00:01:50      L        1      1\n",
       "4     126     00:02:06      B        1      1\n",
       "5     132     00:02:12      L        1      1\n",
       "6     140     00:02:20      I        1      1\n",
       "7     140     00:02:20      S        1      1\n",
       "8     146     00:02:26      L        1      1\n",
       "9     156     00:02:36      S        1      1"
      ]
     },
     "execution_count": 187,
     "metadata": {},
     "output_type": "execute_result"
    }
   ],
   "source": [
    "## Como en ocasiones hay más de una acción en un mismo tiempo, hacer que en la columna label no haya comas\n",
    "## En el caso que coocurran acciones, \"multiplicar la linea\", una para cada evento\n",
    "## Como consecuencia, el len aumentará respecto df_\n",
    "\n",
    "items=[]\n",
    "\n",
    "for i in range(len(df_)):\n",
    "    #print(i)\n",
    "    n_actions = len(df_.labels.iloc[i].split(','))\n",
    "    if n_actions==1:\n",
    "        items.append([df_.time_s.iloc[i], df_.time_min_sec.iloc[i], \n",
    "                      df_.labels.iloc[i], df_.subject.iloc[i],  df_.trick.iloc[i]  ])\n",
    "    elif n_actions>1:\n",
    "        actions = df_.labels.iloc[i].split(',')\n",
    "        for a in range(0, n_actions):\n",
    "            items.append([df_.time_s.iloc[i], df_.time_min_sec.iloc[i], \n",
    "                          actions[a], df_.subject.iloc[i],  df_.trick.iloc[i]  ])\n",
    "            \n",
    "            \n",
    "df_actions = pd.DataFrame(items)    \n",
    "df_actions.columns = ['time_s', 'time_min_sec', 'labels', 'subject', 'trick']\n",
    "print(len(df_actions))\n",
    "df_actions.head(10)"
   ]
  },
  {
   "cell_type": "code",
   "execution_count": 188,
   "metadata": {},
   "outputs": [
    {
     "data": {
      "text/plain": [
       "array(['Se', 'B', 'In', 'L', 'I', ' S', 'S', 'A', 'PERD.VIS', 'AA', 'R',\n",
       "       'P', 'C', 'D', 'Si', ' R', 'M', 'F', ' F', 'A+', 'O', ' A',\n",
       "       'PERD. VIS', 'A0', ' A+', 'P ', ' P', 'iN', ' L ', ' Si', 'PV',\n",
       "       'N', 'a', 'perd.vis', ' C', ' D', ' B', ' Se', ' VP', 'VP', ' I',\n",
       "       ' PV', ' L', 'H', 'DD', ' AA', 'T', ' a', ' N', ' O', 'AA+', 'se',\n",
       "       'F ', 'S ', 'IN', 'PV ', 'SS', 'F  ', 'L ', ' I ', 'M  ', ' S   ',\n",
       "       'N  ', 'sI', 'a?', 'N ', ' F ', ' In', 'VP ', ' L   ', 'S  ',\n",
       "       ' A (ANTES)', 'TONTO BOCA P', 'L  ', ' A0', ' S ', 'C ', 'X',\n",
       "       ' C ', '  L', ' R ', ' A ', 'F?', 'aa'], dtype=object)"
      ]
     },
     "execution_count": 188,
     "metadata": {},
     "output_type": "execute_result"
    }
   ],
   "source": [
    "df_actions.labels.unique()"
   ]
  },
  {
   "cell_type": "code",
   "execution_count": 189,
   "metadata": {},
   "outputs": [
    {
     "data": {
      "text/plain": [
       "array(['Se', 'B', 'In', 'L', 'I', 'S', 'A', 'PV', 'AA', 'R', 'P', 'C',\n",
       "       'D', 'Si', 'M', 'F', 'A+', 'O', 'A0', 'N', 'a', 'H', 'T', 'AA+',\n",
       "       'TONTO BOCA P', 'X', 'aa'], dtype=object)"
      ]
     },
     "execution_count": 189,
     "metadata": {},
     "output_type": "execute_result"
    }
   ],
   "source": [
    "### Correccion de fallos en las labels al entrar los datos\n",
    "df_actions['labels'] = df_actions['labels'].replace([' Se'], ['Se'])\n",
    "df_actions['labels'] = df_actions['labels'].replace(['se'], ['Se'])\n",
    "df_actions['labels'] = df_actions['labels'].replace([' A'], ['A'])\n",
    "df_actions['labels'] = df_actions['labels'].replace([' A '], ['A'])\n",
    "df_actions['labels'] = df_actions['labels'].replace([' B'], ['B'])\n",
    "df_actions['labels'] = df_actions['labels'].replace([' I'], ['I'])\n",
    "df_actions['labels'] = df_actions['labels'].replace([' L'], ['L'])\n",
    "df_actions['labels'] = df_actions['labels'].replace(['  L'], ['L'])\n",
    "df_actions['labels'] = df_actions['labels'].replace(['L  '], ['L'])\n",
    "df_actions['labels'] = df_actions['labels'].replace([' L '], ['L'])\n",
    "df_actions['labels'] = df_actions['labels'].replace(['L '], ['L'])\n",
    "df_actions['labels'] = df_actions['labels'].replace(['N '], ['N'])\n",
    "df_actions['labels'] = df_actions['labels'].replace(['N  '], ['N'])\n",
    "df_actions['labels'] = df_actions['labels'].replace([' N'], ['N'])\n",
    "df_actions['labels'] = df_actions['labels'].replace([' S'], ['S'])\n",
    "df_actions['labels'] = df_actions['labels'].replace([' S  '], ['S'])\n",
    "df_actions['labels'] = df_actions['labels'].replace([' S   '], ['S'])\n",
    "df_actions['labels'] = df_actions['labels'].replace(['S '], ['S'])\n",
    "df_actions['labels'] = df_actions['labels'].replace([' S '], ['S'])\n",
    "df_actions['labels'] = df_actions['labels'].replace(['S  '], ['S'])\n",
    "df_actions['labels'] = df_actions['labels'].replace(['R '], ['R'])\n",
    "df_actions['labels'] = df_actions['labels'].replace([' R'], ['R'])\n",
    "df_actions['labels'] = df_actions['labels'].replace([' R '], ['R'])\n",
    "df_actions['labels'] = df_actions['labels'].replace(['C '], ['C'])\n",
    "df_actions['labels'] = df_actions['labels'].replace([' C '], ['C'])\n",
    "df_actions['labels'] = df_actions['labels'].replace([' C'], ['C'])\n",
    "df_actions['labels'] = df_actions['labels'].replace(['F '], ['F'])\n",
    "df_actions['labels'] = df_actions['labels'].replace([' F '], ['F'])\n",
    "df_actions['labels'] = df_actions['labels'].replace(['F  '], ['F'])\n",
    "df_actions['labels'] = df_actions['labels'].replace([' F'], ['F'])\n",
    "df_actions['labels'] = df_actions['labels'].replace(['M '], ['M'])\n",
    "df_actions['labels'] = df_actions['labels'].replace(['M  '], ['M'])\n",
    "df_actions['labels'] = df_actions['labels'].replace(['a '], ['a'])\n",
    "df_actions['labels'] = df_actions['labels'].replace([' a'], ['a'])\n",
    "df_actions['labels'] = df_actions['labels'].replace([' AA'], ['AA'])\n",
    "df_actions['labels'] = df_actions['labels'].replace([' A0'], ['A0'])\n",
    "df_actions['labels'] = df_actions['labels'].replace(['IN'], ['In'])\n",
    "df_actions['labels'] = df_actions['labels'].replace([' In'], ['In'])\n",
    "df_actions['labels'] = df_actions['labels'].replace(['iN'], ['In'])\n",
    "df_actions['labels'] = df_actions['labels'].replace([' D'], ['D'])\n",
    "df_actions['labels'] = df_actions['labels'].replace([' O'], ['O'])\n",
    "df_actions['labels'] = df_actions['labels'].replace([' A+'], ['A+'])\n",
    "df_actions['labels'] = df_actions['labels'].replace([' L   '], ['L'])\n",
    "df_actions['labels'] = df_actions['labels'].replace([' I '], ['I'])\n",
    "df_actions['labels'] = df_actions['labels'].replace(['PERD.VIS'], ['PV'])\n",
    "df_actions['labels'] = df_actions['labels'].replace(['PERD. VIS'], ['PV'])\n",
    "df_actions['labels'] = df_actions['labels'].replace(['perd.vis'], ['PV'])\n",
    "df_actions['labels'] = df_actions['labels'].replace(['VP'], ['PV'])\n",
    "df_actions['labels'] = df_actions['labels'].replace([' VP'], ['PV'])\n",
    "df_actions['labels'] = df_actions['labels'].replace(['VP '], ['PV'])\n",
    "df_actions['labels'] = df_actions['labels'].replace(['PV '], ['PV'])\n",
    "df_actions['labels'] = df_actions['labels'].replace([' PV'], ['PV'])\n",
    "df_actions['labels'] = df_actions['labels'].replace(['P '], ['P'])\n",
    "df_actions['labels'] = df_actions['labels'].replace([' P'], ['P'])\n",
    "df_actions['labels'] = df_actions['labels'].replace([' Si'], ['Si'])\n",
    "df_actions['labels'] = df_actions['labels'].replace(['sI'], ['Si'])\n",
    "df_actions['labels'] = df_actions['labels'].replace(['SS'], ['S'])\n",
    "df_actions['labels'] = df_actions['labels'].replace(['DD'], ['D'])\n",
    "df_actions['labels'] = df_actions['labels'].replace(['a?'], ['a'])\n",
    "df_actions['labels'] = df_actions['labels'].replace(['F?'], ['F'])\n",
    "df_actions['labels'] = df_actions['labels'].replace([' A (ANTES)'], ['A'])\n",
    "\n",
    "\n",
    "\n",
    "df_actions.labels.unique()"
   ]
  },
  {
   "cell_type": "markdown",
   "metadata": {},
   "source": [
    "#### Until clarification, I am excluding P, PV, VP, X, aa, H, T, AA+, TONTO BOCA P"
   ]
  },
  {
   "cell_type": "code",
   "execution_count": 190,
   "metadata": {},
   "outputs": [
    {
     "data": {
      "text/plain": [
       "array(['Se', 'B', 'In', 'L', 'I', 'S', 'A', 'AA', 'R', 'C', 'D', 'Si',\n",
       "       'M', 'F', 'A+', 'O', 'A0', 'N', 'a'], dtype=object)"
      ]
     },
     "execution_count": 190,
     "metadata": {},
     "output_type": "execute_result"
    }
   ],
   "source": [
    "df = df_actions.loc[(df_actions['labels']=='Se') | (df_actions['labels']=='B') | (df_actions['labels']=='In') | \n",
    "              (df_actions['labels']=='L') | (df_actions['labels']=='I') | (df_actions['labels']=='S') | \n",
    "              (df_actions['labels']=='A') | (df_actions['labels']=='AA') | (df_actions['labels']=='R') |\n",
    "              (df_actions['labels']=='C') | (df_actions['labels']=='D') | (df_actions['labels']=='Si') |\n",
    "              (df_actions['labels']=='M') | (df_actions['labels']=='F') | (df_actions['labels']=='A+') | \n",
    "              (df_actions['labels']=='O') | (df_actions['labels']=='A0') | (df_actions['labels']=='N') |\n",
    "              (df_actions['labels']=='a')]\n",
    "\n",
    "df.labels.unique()"
   ]
  },
  {
   "cell_type": "code",
   "execution_count": 192,
   "metadata": {},
   "outputs": [
    {
     "name": "stdout",
     "output_type": "stream",
     "text": [
      "14015\n"
     ]
    },
    {
     "data": {
      "text/html": [
       "<div>\n",
       "<style scoped>\n",
       "    .dataframe tbody tr th:only-of-type {\n",
       "        vertical-align: middle;\n",
       "    }\n",
       "\n",
       "    .dataframe tbody tr th {\n",
       "        vertical-align: top;\n",
       "    }\n",
       "\n",
       "    .dataframe thead th {\n",
       "        text-align: right;\n",
       "    }\n",
       "</style>\n",
       "<table border=\"1\" class=\"dataframe\">\n",
       "  <thead>\n",
       "    <tr style=\"text-align: right;\">\n",
       "      <th></th>\n",
       "      <th>time_s</th>\n",
       "      <th>time_min_sec</th>\n",
       "      <th>labels</th>\n",
       "      <th>subject</th>\n",
       "      <th>trick</th>\n",
       "    </tr>\n",
       "  </thead>\n",
       "  <tbody>\n",
       "    <tr>\n",
       "      <th>0</th>\n",
       "      <td>8</td>\n",
       "      <td>00:00:08</td>\n",
       "      <td>Se</td>\n",
       "      <td>1</td>\n",
       "      <td>1</td>\n",
       "    </tr>\n",
       "    <tr>\n",
       "      <th>1</th>\n",
       "      <td>10</td>\n",
       "      <td>00:00:10</td>\n",
       "      <td>B</td>\n",
       "      <td>1</td>\n",
       "      <td>1</td>\n",
       "    </tr>\n",
       "    <tr>\n",
       "      <th>2</th>\n",
       "      <td>30</td>\n",
       "      <td>00:00:30</td>\n",
       "      <td>In</td>\n",
       "      <td>1</td>\n",
       "      <td>1</td>\n",
       "    </tr>\n",
       "    <tr>\n",
       "      <th>3</th>\n",
       "      <td>110</td>\n",
       "      <td>00:01:50</td>\n",
       "      <td>L</td>\n",
       "      <td>1</td>\n",
       "      <td>1</td>\n",
       "    </tr>\n",
       "    <tr>\n",
       "      <th>4</th>\n",
       "      <td>126</td>\n",
       "      <td>00:02:06</td>\n",
       "      <td>B</td>\n",
       "      <td>1</td>\n",
       "      <td>1</td>\n",
       "    </tr>\n",
       "    <tr>\n",
       "      <th>5</th>\n",
       "      <td>132</td>\n",
       "      <td>00:02:12</td>\n",
       "      <td>L</td>\n",
       "      <td>1</td>\n",
       "      <td>1</td>\n",
       "    </tr>\n",
       "    <tr>\n",
       "      <th>6</th>\n",
       "      <td>140</td>\n",
       "      <td>00:02:20</td>\n",
       "      <td>I</td>\n",
       "      <td>1</td>\n",
       "      <td>1</td>\n",
       "    </tr>\n",
       "    <tr>\n",
       "      <th>7</th>\n",
       "      <td>140</td>\n",
       "      <td>00:02:20</td>\n",
       "      <td>S</td>\n",
       "      <td>1</td>\n",
       "      <td>1</td>\n",
       "    </tr>\n",
       "    <tr>\n",
       "      <th>8</th>\n",
       "      <td>146</td>\n",
       "      <td>00:02:26</td>\n",
       "      <td>L</td>\n",
       "      <td>1</td>\n",
       "      <td>1</td>\n",
       "    </tr>\n",
       "    <tr>\n",
       "      <th>9</th>\n",
       "      <td>156</td>\n",
       "      <td>00:02:36</td>\n",
       "      <td>S</td>\n",
       "      <td>1</td>\n",
       "      <td>1</td>\n",
       "    </tr>\n",
       "  </tbody>\n",
       "</table>\n",
       "</div>"
      ],
      "text/plain": [
       "   time_s time_min_sec labels  subject  trick\n",
       "0       8     00:00:08     Se        1      1\n",
       "1      10     00:00:10      B        1      1\n",
       "2      30     00:00:30     In        1      1\n",
       "3     110     00:01:50      L        1      1\n",
       "4     126     00:02:06      B        1      1\n",
       "5     132     00:02:12      L        1      1\n",
       "6     140     00:02:20      I        1      1\n",
       "7     140     00:02:20      S        1      1\n",
       "8     146     00:02:26      L        1      1\n",
       "9     156     00:02:36      S        1      1"
      ]
     },
     "execution_count": 192,
     "metadata": {},
     "output_type": "execute_result"
    }
   ],
   "source": [
    "print(len(df))\n",
    "df.head(10)"
   ]
  },
  {
   "cell_type": "code",
   "execution_count": null,
   "metadata": {},
   "outputs": [],
   "source": [
    "### poner a cada acción una relación con los fenómenos del mago según el intervalo en el que ocurre\n",
    "### poner una duración de la acción? de acuerdo al diccionario\n",
    "\n",
    "## Para Sincronizar las anotaciones de Jordi y Luis con las de las estudiantes de master, hay que restar a los tiempos de Jordi \n",
    "## y Luis 10:31 (10 minutos, 31 segundos) (sincronización de ambos videos)"
   ]
  },
  {
   "cell_type": "code",
   "execution_count": 227,
   "metadata": {},
   "outputs": [],
   "source": [
    "df_gea=pd.read_excel(os.getcwd() + '\\\\EVENTOS_GEA.xlsx', sheet_name='Hoja2' )\n"
   ]
  },
  {
   "cell_type": "code",
   "execution_count": 229,
   "metadata": {},
   "outputs": [
    {
     "data": {
      "text/html": [
       "<div>\n",
       "<style scoped>\n",
       "    .dataframe tbody tr th:only-of-type {\n",
       "        vertical-align: middle;\n",
       "    }\n",
       "\n",
       "    .dataframe tbody tr th {\n",
       "        vertical-align: top;\n",
       "    }\n",
       "\n",
       "    .dataframe thead th {\n",
       "        text-align: right;\n",
       "    }\n",
       "</style>\n",
       "<table border=\"1\" class=\"dataframe\">\n",
       "  <thead>\n",
       "    <tr style=\"text-align: right;\">\n",
       "      <th></th>\n",
       "      <th>tiempo</th>\n",
       "      <th>evento</th>\n",
       "      <th>decripcion</th>\n",
       "      <th>times_s</th>\n",
       "    </tr>\n",
       "  </thead>\n",
       "  <tbody>\n",
       "    <tr>\n",
       "      <th>0</th>\n",
       "      <td>00:10:58</td>\n",
       "      <td>gag</td>\n",
       "      <td>broma sobre su dominio del catalán</td>\n",
       "      <td>658</td>\n",
       "    </tr>\n",
       "    <tr>\n",
       "      <th>1</th>\n",
       "      <td>00:11:05</td>\n",
       "      <td>gag</td>\n",
       "      <td>\"Por deferencia\"</td>\n",
       "      <td>665</td>\n",
       "    </tr>\n",
       "    <tr>\n",
       "      <th>2</th>\n",
       "      <td>00:11:36</td>\n",
       "      <td>gag</td>\n",
       "      <td>\"Que haya público\"</td>\n",
       "      <td>696</td>\n",
       "    </tr>\n",
       "    <tr>\n",
       "      <th>3</th>\n",
       "      <td>00:11:50</td>\n",
       "      <td>gag</td>\n",
       "      <td>\"El público de schroedinger\"</td>\n",
       "      <td>710</td>\n",
       "    </tr>\n",
       "    <tr>\n",
       "      <th>4</th>\n",
       "      <td>00:12:02</td>\n",
       "      <td>gag</td>\n",
       "      <td>El juego es muy bonito</td>\n",
       "      <td>722</td>\n",
       "    </tr>\n",
       "    <tr>\n",
       "      <th>5</th>\n",
       "      <td>00:12:30</td>\n",
       "      <td>gag</td>\n",
       "      <td>No hay humor, la gente se cambia de sitio</td>\n",
       "      <td>750</td>\n",
       "    </tr>\n",
       "    <tr>\n",
       "      <th>6</th>\n",
       "      <td>00:12:53</td>\n",
       "      <td>gag</td>\n",
       "      <td>Broma: \"Ah! No se puede cambiar\"</td>\n",
       "      <td>773</td>\n",
       "    </tr>\n",
       "    <tr>\n",
       "      <th>7</th>\n",
       "      <td>00:13:01</td>\n",
       "      <td>gag</td>\n",
       "      <td>\"Como veis soy una persona…\"</td>\n",
       "      <td>781</td>\n",
       "    </tr>\n",
       "    <tr>\n",
       "      <th>8</th>\n",
       "      <td>00:13:19</td>\n",
       "      <td>gag</td>\n",
       "      <td>\"Preocupado por el ritmo…\"</td>\n",
       "      <td>799</td>\n",
       "    </tr>\n",
       "    <tr>\n",
       "      <th>9</th>\n",
       "      <td>00:13:44</td>\n",
       "      <td>gag</td>\n",
       "      <td>\"Risas del público\"</td>\n",
       "      <td>824</td>\n",
       "    </tr>\n",
       "  </tbody>\n",
       "</table>\n",
       "</div>"
      ],
      "text/plain": [
       "     tiempo evento                                 decripcion  times_s\n",
       "0  00:10:58    gag         broma sobre su dominio del catalán      658\n",
       "1  00:11:05    gag                           \"Por deferencia\"      665\n",
       "2  00:11:36    gag                         \"Que haya público\"      696\n",
       "3  00:11:50    gag               \"El público de schroedinger\"      710\n",
       "4  00:12:02    gag                     El juego es muy bonito      722\n",
       "5  00:12:30    gag  No hay humor, la gente se cambia de sitio      750\n",
       "6  00:12:53    gag           Broma: \"Ah! No se puede cambiar\"      773\n",
       "7  00:13:01    gag               \"Como veis soy una persona…\"      781\n",
       "8  00:13:19    gag                 \"Preocupado por el ritmo…\"      799\n",
       "9  00:13:44    gag                        \"Risas del público\"      824"
      ]
     },
     "execution_count": 229,
     "metadata": {},
     "output_type": "execute_result"
    }
   ],
   "source": [
    "times_s = [df_gea.tiempo.iloc[i].minute*60 + df_gea.tiempo.iloc[i].second for i in range(len(df_gea))]\n",
    "df_gea['times_s'] = times_s\n",
    "df_gea.head(10)"
   ]
  },
  {
   "cell_type": "code",
   "execution_count": 230,
   "metadata": {},
   "outputs": [
    {
     "data": {
      "text/plain": [
       "799"
      ]
     },
     "execution_count": 230,
     "metadata": {},
     "output_type": "execute_result"
    }
   ],
   "source": [
    "df\n"
   ]
  },
  {
   "cell_type": "code",
   "execution_count": null,
   "metadata": {},
   "outputs": [],
   "source": [
    "n.second"
   ]
  }
 ],
 "metadata": {
  "kernelspec": {
   "display_name": "Python 3",
   "language": "python",
   "name": "python3"
  },
  "language_info": {
   "codemirror_mode": {
    "name": "ipython",
    "version": 3
   },
   "file_extension": ".py",
   "mimetype": "text/x-python",
   "name": "python",
   "nbconvert_exporter": "python",
   "pygments_lexer": "ipython3",
   "version": "3.5.6"
  }
 },
 "nbformat": 4,
 "nbformat_minor": 2
}
